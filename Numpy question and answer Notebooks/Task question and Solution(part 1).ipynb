{
  "nbformat": 4,
  "nbformat_minor": 0,
  "metadata": {
    "colab": {
      "provenance": []
    },
    "kernelspec": {
      "name": "python3",
      "display_name": "Python 3"
    },
    "language_info": {
      "name": "python"
    }
  },
  "cells": [
    {
      "cell_type": "markdown",
      "source": [
        "**Note: In Data Science googling is a very important skill. If you find some difficulties to solve the problem, google it and try to find some clues to solve.**"
      ],
      "metadata": {
        "id": "6WdKdPGx-tnY"
      }
    },
    {
      "cell_type": "code",
      "source": [
        "import numpy as np"
      ],
      "metadata": {
        "id": "-J4F1ysN4mLk"
      },
      "execution_count": null,
      "outputs": []
    },
    {
      "cell_type": "markdown",
      "source": [
        "###`Q-1` Create a null vector of size 10 but the fifth value which is 1.\n",
        "\n"
      ],
      "metadata": {
        "id": "a_K8IH-C6HDK"
      }
    },
    {
      "cell_type": "code",
      "source": [
        "#Code here\n",
        "x = np.zeros(10, dtype=np.int_)\n",
        "print(x)\n",
        "x[5] = 1\n",
        "print(x)"
      ],
      "metadata": {
        "id": "sTF03KsZ6QUI",
        "colab": {
          "base_uri": "https://localhost:8080/"
        },
        "outputId": "84cd8bbf-2c8b-4942-9c5a-c9ed79a5ec7b"
      },
      "execution_count": null,
      "outputs": [
        {
          "output_type": "stream",
          "name": "stdout",
          "text": [
            "[0 0 0 0 0 0 0 0 0 0]\n",
            "[0 0 0 0 0 1 0 0 0 0]\n"
          ]
        }
      ]
    },
    {
      "cell_type": "markdown",
      "source": [
        "###`Q-2` Ask user to input two numbers a, b. Write a program to generate a random array of shape (a, b) and print the array and avg of the array."
      ],
      "metadata": {
        "id": "TEiG25rS6S1i"
      }
    },
    {
      "cell_type": "code",
      "source": [
        "#Code here\n",
        "import random\n",
        "a = int(input(\"Enter a: \"))\n",
        "b = int(input(\"Enter b: \"))\n",
        "\n",
        "n = a*b\n",
        "x = np.random.randint(n, size=(a,b))\n",
        "print(x)"
      ],
      "metadata": {
        "id": "ihwn4oOH6Vh7",
        "colab": {
          "base_uri": "https://localhost:8080/"
        },
        "outputId": "6106d157-5822-4b7c-a44a-61ee6603b52b"
      },
      "execution_count": null,
      "outputs": [
        {
          "output_type": "stream",
          "name": "stdout",
          "text": [
            "Enter a: 3\n",
            "Enter b: 4\n",
            "[[ 5  7  5  7]\n",
            " [11  3  3  6]\n",
            " [10  5  1  8]]\n"
          ]
        }
      ]
    },
    {
      "cell_type": "code",
      "source": [
        "a, b = map(int, input(\"Enter two Number: \").split())\n",
        "x = np.random.random((a,b))\n",
        "x"
      ],
      "metadata": {
        "colab": {
          "base_uri": "https://localhost:8080/"
        },
        "id": "HDgXDryZaWId",
        "outputId": "5adc72e1-221c-468d-db57-9a6ce1d0a10f"
      },
      "execution_count": null,
      "outputs": [
        {
          "name": "stdout",
          "output_type": "stream",
          "text": [
            "Enter two Number: 3 4\n"
          ]
        },
        {
          "output_type": "execute_result",
          "data": {
            "text/plain": [
              "array([[0.68167858, 0.66822969, 0.23866944, 0.68802442],\n",
              "       [0.93359835, 0.60326139, 0.36953907, 0.91651642],\n",
              "       [0.57667207, 0.41509439, 0.25495184, 0.04943981]])"
            ]
          },
          "metadata": {},
          "execution_count": 4
        }
      ]
    },
    {
      "cell_type": "markdown",
      "source": [
        "###`Q-3`Write a function to create a 2d array with 1 on the border and 0 inside. Take 2-D array shape as (a,b) as parameter to function.\n",
        "\n",
        "Eg.-\n",
        "```\n",
        "[[1,1,1,1],\n",
        "[1,0,0,1],\n",
        "[1,0,0,1],\n",
        "[1,1,1,1]]\n",
        "```"
      ],
      "metadata": {
        "id": "2iEeybS06ZSq"
      }
    },
    {
      "cell_type": "code",
      "source": [
        "#Code here\n",
        "def one_():\n",
        "  x = np.ones((5,5))\n",
        "  print(x)\n",
        "  x[1:4,1:4] = 0\n",
        "  print(x)\n",
        "\n",
        "one_()"
      ],
      "metadata": {
        "id": "gEKndkDU6ZSs",
        "colab": {
          "base_uri": "https://localhost:8080/"
        },
        "outputId": "9359edd2-0ee8-495e-86df-6ab9b0c3863f"
      },
      "execution_count": null,
      "outputs": [
        {
          "output_type": "stream",
          "name": "stdout",
          "text": [
            "[[1. 1. 1. 1. 1.]\n",
            " [1. 1. 1. 1. 1.]\n",
            " [1. 1. 1. 1. 1.]\n",
            " [1. 1. 1. 1. 1.]\n",
            " [1. 1. 1. 1. 1.]]\n",
            "[[1. 1. 1. 1. 1.]\n",
            " [1. 0. 0. 0. 1.]\n",
            " [1. 0. 0. 0. 1.]\n",
            " [1. 0. 0. 0. 1.]\n",
            " [1. 1. 1. 1. 1.]]\n"
          ]
        }
      ]
    },
    {
      "cell_type": "markdown",
      "source": [
        "###`Q-4` Create a vector of size 10 with values ranging from 0 to 1, both excluded.\n"
      ],
      "metadata": {
        "id": "QRJicQ8j6ZlE"
      }
    },
    {
      "cell_type": "code",
      "source": [
        "#Code here\n",
        "np.linspace(0,1,12)[1:-1]"
      ],
      "metadata": {
        "id": "eC4XLhDq6ZlF",
        "colab": {
          "base_uri": "https://localhost:8080/"
        },
        "outputId": "ee91d58f-b2d7-460e-db06-ba3746653ac2"
      },
      "execution_count": null,
      "outputs": [
        {
          "output_type": "execute_result",
          "data": {
            "text/plain": [
              "array([0.09090909, 0.18181818, 0.27272727, 0.36363636, 0.45454545,\n",
              "       0.54545455, 0.63636364, 0.72727273, 0.81818182, 0.90909091])"
            ]
          },
          "metadata": {},
          "execution_count": 14
        }
      ]
    },
    {
      "cell_type": "markdown",
      "source": [
        "###`Q-5` Can you create a identity mattrix of shape (3,4). If yes write code for it."
      ],
      "metadata": {
        "id": "vb4jK4yQ6Zs2"
      }
    },
    {
      "cell_type": "code",
      "source": [
        "#Code here\n",
        "np.identity(3)"
      ],
      "metadata": {
        "id": "DTV_AbMS6Zs4",
        "colab": {
          "base_uri": "https://localhost:8080/"
        },
        "outputId": "d566a63f-be4e-4046-b3aa-af24e30f4c43"
      },
      "execution_count": null,
      "outputs": [
        {
          "output_type": "execute_result",
          "data": {
            "text/plain": [
              "array([[1., 0., 0.],\n",
              "       [0., 1., 0.],\n",
              "       [0., 0., 1.]])"
            ]
          },
          "metadata": {},
          "execution_count": 15
        }
      ]
    },
    {
      "cell_type": "code",
      "source": [
        "np.eye(3)"
      ],
      "metadata": {
        "colab": {
          "base_uri": "https://localhost:8080/"
        },
        "id": "dA5DYeCQjzsM",
        "outputId": "d8721b33-86a6-4293-d9af-1355acb2c735"
      },
      "execution_count": null,
      "outputs": [
        {
          "output_type": "execute_result",
          "data": {
            "text/plain": [
              "array([[1., 0., 0.],\n",
              "       [0., 1., 0.],\n",
              "       [0., 0., 1.]])"
            ]
          },
          "metadata": {},
          "execution_count": 16
        }
      ]
    },
    {
      "cell_type": "code",
      "source": [
        "# not possible"
      ],
      "metadata": {
        "id": "bn8v-4h_jzvX"
      },
      "execution_count": null,
      "outputs": []
    },
    {
      "cell_type": "markdown",
      "source": [
        "###`Q-6:` Create a 5x5 matrix with row values ranging from 0 to 4."
      ],
      "metadata": {
        "id": "QtjAFm5PEntK"
      }
    },
    {
      "cell_type": "code",
      "source": [
        "#Code here\n",
        "x = np.zeros((5,5))\n",
        "print(x)\n",
        "x += np.arange(5)\n",
        "print(x)"
      ],
      "metadata": {
        "id": "z2WGxRjvEuRS",
        "colab": {
          "base_uri": "https://localhost:8080/"
        },
        "outputId": "0381f9fc-9894-463a-e2c3-408aa9229d42"
      },
      "execution_count": null,
      "outputs": [
        {
          "output_type": "stream",
          "name": "stdout",
          "text": [
            "[[0. 0. 0. 0. 0.]\n",
            " [0. 0. 0. 0. 0.]\n",
            " [0. 0. 0. 0. 0.]\n",
            " [0. 0. 0. 0. 0.]\n",
            " [0. 0. 0. 0. 0.]]\n",
            "[[0. 1. 2. 3. 4.]\n",
            " [0. 1. 2. 3. 4.]\n",
            " [0. 1. 2. 3. 4.]\n",
            " [0. 1. 2. 3. 4.]\n",
            " [0. 1. 2. 3. 4.]]\n"
          ]
        }
      ]
    },
    {
      "cell_type": "markdown",
      "source": [
        "###`Q-7:`  Consider a random integer (in range 1 to 100) vector with shape `(10,2)` representing coordinates, and coordinates of a point as array is given. Create an array of distance of each point in the random vectros from the given point. Distance array should be interger type.\n",
        "\n",
        "```\n",
        "point = np.array([2,3])\n",
        "```\n"
      ],
      "metadata": {
        "id": "KPpvxKjVHnyx"
      }
    },
    {
      "cell_type": "code",
      "source": [
        "#code here\n",
        "x = np.random.randint(1, 100, (10,2))\n",
        "point = np.array([2,3])\n",
        "print(x)\n",
        "\n",
        "np.sqrt(np.sum((x - point)**2, axis =1)).astype(int)"
      ],
      "metadata": {
        "id": "X7KGnWLNIM6f",
        "colab": {
          "base_uri": "https://localhost:8080/"
        },
        "outputId": "4d2ce2d5-1548-4cfb-c7aa-a3159d09ee23"
      },
      "execution_count": null,
      "outputs": [
        {
          "output_type": "stream",
          "name": "stdout",
          "text": [
            "[[78 41]\n",
            " [89 98]\n",
            " [39 62]\n",
            " [20 21]\n",
            " [63 76]\n",
            " [86 28]\n",
            " [83 83]\n",
            " [96 43]\n",
            " [27 33]\n",
            " [79 80]]\n"
          ]
        },
        {
          "output_type": "execute_result",
          "data": {
            "text/plain": [
              "array([ 84, 128,  69,  25,  95,  87, 113, 102,  39, 108])"
            ]
          },
          "metadata": {},
          "execution_count": 33
        }
      ]
    },
    {
      "cell_type": "markdown",
      "source": [
        "###`Q-8:` Consider a (6,7,8) shape array, what is the index (x,y,z) of the 100th element?"
      ],
      "metadata": {
        "id": "tajOFJlCDwTr"
      }
    },
    {
      "cell_type": "code",
      "source": [
        "#Code here\n",
        "x = np.arange(336).reshape(6,7,8)\n",
        "x"
      ],
      "metadata": {
        "id": "qH4oxvs0D3Ra",
        "colab": {
          "base_uri": "https://localhost:8080/"
        },
        "outputId": "7c118b1b-f3c2-40f0-9aa3-fe8bee27f72e"
      },
      "execution_count": null,
      "outputs": [
        {
          "output_type": "execute_result",
          "data": {
            "text/plain": [
              "array([[[  0,   1,   2,   3,   4,   5,   6,   7],\n",
              "        [  8,   9,  10,  11,  12,  13,  14,  15],\n",
              "        [ 16,  17,  18,  19,  20,  21,  22,  23],\n",
              "        [ 24,  25,  26,  27,  28,  29,  30,  31],\n",
              "        [ 32,  33,  34,  35,  36,  37,  38,  39],\n",
              "        [ 40,  41,  42,  43,  44,  45,  46,  47],\n",
              "        [ 48,  49,  50,  51,  52,  53,  54,  55]],\n",
              "\n",
              "       [[ 56,  57,  58,  59,  60,  61,  62,  63],\n",
              "        [ 64,  65,  66,  67,  68,  69,  70,  71],\n",
              "        [ 72,  73,  74,  75,  76,  77,  78,  79],\n",
              "        [ 80,  81,  82,  83,  84,  85,  86,  87],\n",
              "        [ 88,  89,  90,  91,  92,  93,  94,  95],\n",
              "        [ 96,  97,  98,  99, 100, 101, 102, 103],\n",
              "        [104, 105, 106, 107, 108, 109, 110, 111]],\n",
              "\n",
              "       [[112, 113, 114, 115, 116, 117, 118, 119],\n",
              "        [120, 121, 122, 123, 124, 125, 126, 127],\n",
              "        [128, 129, 130, 131, 132, 133, 134, 135],\n",
              "        [136, 137, 138, 139, 140, 141, 142, 143],\n",
              "        [144, 145, 146, 147, 148, 149, 150, 151],\n",
              "        [152, 153, 154, 155, 156, 157, 158, 159],\n",
              "        [160, 161, 162, 163, 164, 165, 166, 167]],\n",
              "\n",
              "       [[168, 169, 170, 171, 172, 173, 174, 175],\n",
              "        [176, 177, 178, 179, 180, 181, 182, 183],\n",
              "        [184, 185, 186, 187, 188, 189, 190, 191],\n",
              "        [192, 193, 194, 195, 196, 197, 198, 199],\n",
              "        [200, 201, 202, 203, 204, 205, 206, 207],\n",
              "        [208, 209, 210, 211, 212, 213, 214, 215],\n",
              "        [216, 217, 218, 219, 220, 221, 222, 223]],\n",
              "\n",
              "       [[224, 225, 226, 227, 228, 229, 230, 231],\n",
              "        [232, 233, 234, 235, 236, 237, 238, 239],\n",
              "        [240, 241, 242, 243, 244, 245, 246, 247],\n",
              "        [248, 249, 250, 251, 252, 253, 254, 255],\n",
              "        [256, 257, 258, 259, 260, 261, 262, 263],\n",
              "        [264, 265, 266, 267, 268, 269, 270, 271],\n",
              "        [272, 273, 274, 275, 276, 277, 278, 279]],\n",
              "\n",
              "       [[280, 281, 282, 283, 284, 285, 286, 287],\n",
              "        [288, 289, 290, 291, 292, 293, 294, 295],\n",
              "        [296, 297, 298, 299, 300, 301, 302, 303],\n",
              "        [304, 305, 306, 307, 308, 309, 310, 311],\n",
              "        [312, 313, 314, 315, 316, 317, 318, 319],\n",
              "        [320, 321, 322, 323, 324, 325, 326, 327],\n",
              "        [328, 329, 330, 331, 332, 333, 334, 335]]])"
            ]
          },
          "metadata": {},
          "execution_count": 36
        }
      ]
    },
    {
      "cell_type": "code",
      "source": [
        "np.unravel_index(100, (6,7,8))"
      ],
      "metadata": {
        "colab": {
          "base_uri": "https://localhost:8080/"
        },
        "id": "QegA2aMDs2Dq",
        "outputId": "d34f57b6-c880-4f52-b0b0-f1005421a034"
      },
      "execution_count": null,
      "outputs": [
        {
          "output_type": "execute_result",
          "data": {
            "text/plain": [
              "(1, 5, 4)"
            ]
          },
          "metadata": {},
          "execution_count": 37
        }
      ]
    },
    {
      "cell_type": "markdown",
      "source": [
        "### `Q-9:` Arrays\n",
        "\n",
        "You are given a space separated list of numbers. Your task is to print a reversed NumPy array with the element type float.\n",
        "\n"
      ],
      "metadata": {
        "id": "9LxBAbT2Pw33"
      }
    },
    {
      "cell_type": "markdown",
      "source": [
        "**Input Format:**\n",
        "\n",
        "A single line of input containing space separated numbers.\n",
        "\n",
        "**Output Format:**\n",
        "\n",
        "Print the reverse NumPy array with type float.\n",
        "\n",
        "**Example 1:**\n",
        "\n",
        "Input:\n",
        "\n",
        "```bash\n",
        "1 2 3 4 -8 -10\n",
        "```\n",
        "\n",
        "Output:\n",
        "\n",
        "```bash\n",
        "[-10.  -8.   4.   3.   2.   1.]\n",
        "```"
      ],
      "metadata": {
        "id": "JJpqVms2Nq7L"
      }
    },
    {
      "cell_type": "code",
      "source": [
        "#Code here\n",
        "x = input().strip().split()\n",
        "np.array(x[::-1], dtype= np.float32)"
      ],
      "metadata": {
        "id": "7iQyg6ChNl3j",
        "colab": {
          "base_uri": "https://localhost:8080/"
        },
        "outputId": "ec801a2b-dc51-4c45-a6e5-05b31b563697"
      },
      "execution_count": null,
      "outputs": [
        {
          "name": "stdout",
          "output_type": "stream",
          "text": [
            "3 4 5 6 7      8\n"
          ]
        },
        {
          "output_type": "execute_result",
          "data": {
            "text/plain": [
              "array([8., 7., 6., 5., 4., 3.], dtype=float32)"
            ]
          },
          "metadata": {},
          "execution_count": 44
        }
      ]
    },
    {
      "cell_type": "markdown",
      "source": [
        "### `Q-10:` Elements count\n",
        "\n",
        "Count the number of elements of a numpy array.\n",
        "\n"
      ],
      "metadata": {
        "id": "TPxD7jM8Sjz9"
      }
    },
    {
      "cell_type": "markdown",
      "source": [
        "**Example 1:**\n",
        "\n",
        "Input:\n",
        "```bash\n",
        "np.array([])\n",
        "```\n",
        "\n",
        "Output:\n",
        "```bash\n",
        "elements_count :  0\n",
        "```\n",
        "\n",
        "**Example 2:**\n",
        "\n",
        "Input:\n",
        "```bash\n",
        "np.array([1, 2])\n",
        "```\n",
        "\n",
        "Output:\n",
        "```bash\n",
        "elements_count :  2\n",
        "```"
      ],
      "metadata": {
        "id": "oHTiTz_jNkAU"
      }
    },
    {
      "cell_type": "code",
      "source": [
        "#Code here\n",
        "a = np.array([1, 2])\n",
        "a.size"
      ],
      "metadata": {
        "id": "RG0H2I-TNeGN",
        "colab": {
          "base_uri": "https://localhost:8080/"
        },
        "outputId": "161e7a53-489c-4db5-a010-af6b09c10182"
      },
      "execution_count": null,
      "outputs": [
        {
          "output_type": "execute_result",
          "data": {
            "text/plain": [
              "2"
            ]
          },
          "metadata": {},
          "execution_count": 45
        }
      ]
    },
    {
      "cell_type": "markdown",
      "source": [
        "### `Q-11:` Softmax function\n",
        "\n",
        "Create a Python function to calculate the Softmax of the given numpy 1D array. The function only accepts the numpy 1D array, otherwise raise error.\n",
        "\n",
        "$$\\Large \\sigma(\\vec z)_i = \\frac{e^{z_i}}{\\sum_{j=i}^{K}{e^{z_j}}}$$\n",
        "\n",
        "https://en.wikipedia.org/wiki/Softmax_function\n",
        "\n"
      ],
      "metadata": {
        "id": "pwgPz-3l5ic5"
      }
    },
    {
      "cell_type": "markdown",
      "source": [
        "**Example 1:**\n",
        "\n",
        "Input:\n",
        "```bash\n",
        "[86.03331084 37.7285648  48.64908087 87.16563062 38.40852563 37.20006318]\n",
        "```\n",
        "\n",
        "Output:\n",
        "```bash\n",
        "[2.43733249e-01, 2.56112115e-22, 1.41628284e-17, 7.56266751e-01,\n",
        "       5.05514197e-22, 1.50974911e-22]\n",
        "```\n",
        "\n",
        "**Example 2:**\n",
        "\n",
        "Input:\n",
        "```bash\n",
        "[33.17344305 45.61961654 82.05405781 80.9647098  68.82830233 91.52064278]\n",
        "```\n",
        "\n",
        "Output:\n",
        "```bash\n",
        "[4.57181035e-26, 1.16249923e-20, 7.73872596e-05, 2.60358426e-05,\n",
        "       1.39571531e-10, 9.99896577e-01]\n",
        "```"
      ],
      "metadata": {
        "id": "eZ3WJt6UM1ul"
      }
    },
    {
      "cell_type": "code",
      "source": [
        "#Code here\n",
        "import numpy as np\n",
        "\n",
        "def softmax(x):\n",
        "    if isinstance(x, np.ndarray) and x.ndim == 1:\n",
        "        exp_arr = np.exp(x)\n",
        "        softmax_arr = exp_arr / np.sum(exp_arr)\n",
        "        return softmax_arr\n",
        "    else:\n",
        "        raise ValueError(\"Input must be a numpy 1D array\")\n",
        "\n",
        "x = np.array([86.03331084, 37.7285648 , 48.64908087, 87.16563062, 38.40852563, 37.20006318])\n",
        "result = softmax(x)\n",
        "print(result)\n"
      ],
      "metadata": {
        "id": "VNzj05lkNaNi",
        "colab": {
          "base_uri": "https://localhost:8080/"
        },
        "outputId": "a0a3fb34-4fed-4574-a2f9-ed00fc821eaf"
      },
      "execution_count": null,
      "outputs": [
        {
          "output_type": "stream",
          "name": "stdout",
          "text": [
            "[2.43733248e-01 2.56112114e-22 1.41628283e-17 7.56266752e-01\n",
            " 5.05514197e-22 1.50974911e-22]\n"
          ]
        }
      ]
    },
    {
      "cell_type": "markdown",
      "source": [
        "### `Q-12:` Vertical stack\n",
        "\n",
        "Write a python function that accepts infinite number of numpy arrays and do the vertical stack to them. Then return that new array as result. The function only accepts the numpy array, otherwise raise error.\n",
        "\n"
      ],
      "metadata": {
        "id": "k4JWSwWu_HXg"
      }
    },
    {
      "cell_type": "markdown",
      "source": [
        "**Example 1:**\n",
        "\n",
        "Input:\n",
        "```bash\n",
        "a= [[0 1 2 3 4]\n",
        " [5 6 7 8 9]]\n",
        "\n",
        "b= [[1 1 1 1 1]\n",
        " [1 1 1 1 1]]\n",
        "```\n",
        "\n",
        "Output:\n",
        "\n",
        "```bash\n",
        "[[0 1 2 3 4]\n",
        " [5 6 7 8 9]\n",
        " [1 1 1 1 1]\n",
        " [1 1 1 1 1]]\n",
        "```\n",
        "\n",
        "**Example 2:**\n",
        "\n",
        "Input:\n",
        "```bash\n",
        "a= [[0 1 2 3 4]\n",
        " [5 6 7 8 9]]\n",
        "\n",
        "b= [[1 1 1 1 1]\n",
        " [1 1 1 1 1]]\n",
        "\n",
        "c= [[0.10117373 0.1677244  0.73764059 0.83166097 0.48985695]\n",
        " [0.44581567 0.13502419 0.55692335 0.16479622 0.61193593]]\n",
        "```\n",
        "\n",
        "Output:\n",
        "```bash\n",
        "[[0.         1.         2.         3.         4.        ]\n",
        " [5.         6.         7.         8.         9.        ]\n",
        " [1.         1.         1.         1.         1.        ]\n",
        " [1.         1.         1.         1.         1.        ]\n",
        " [0.10117373 0.1677244  0.73764059 0.83166097 0.48985695]\n",
        " [0.44581567 0.13502419 0.55692335 0.16479622 0.61193593]]\n",
        "```"
      ],
      "metadata": {
        "id": "XhhV3mraNAWr"
      }
    },
    {
      "cell_type": "code",
      "source": [
        "#Coder here\n",
        "def ver_stack(*args):\n",
        "  for arr in args:\n",
        "    if type(arr) != np.ndarray:\n",
        "      raise ValueError(\"Input must be 1d array\")\n",
        "  return np.vstack(args)\n",
        "\n",
        "a = np.arange(10).reshape(2,-1)\n",
        "print(a)\n",
        "b = np.repeat(1, 10).reshape(2, -1)\n",
        "print(b)\n",
        "ver_stack(a,b)\n",
        "c = np.random.random((2,5))\n",
        "ver_stack(a,b,c)"
      ],
      "metadata": {
        "id": "dhtnbSj6NP8z",
        "colab": {
          "base_uri": "https://localhost:8080/"
        },
        "outputId": "aff26ae2-6765-40a8-cae5-c060fb1ff351"
      },
      "execution_count": null,
      "outputs": [
        {
          "output_type": "stream",
          "name": "stdout",
          "text": [
            "[[0 1 2 3 4]\n",
            " [5 6 7 8 9]]\n",
            "[[1 1 1 1 1]\n",
            " [1 1 1 1 1]]\n"
          ]
        },
        {
          "output_type": "execute_result",
          "data": {
            "text/plain": [
              "array([[0.        , 1.        , 2.        , 3.        , 4.        ],\n",
              "       [5.        , 6.        , 7.        , 8.        , 9.        ],\n",
              "       [1.        , 1.        , 1.        , 1.        , 1.        ],\n",
              "       [1.        , 1.        , 1.        , 1.        , 1.        ],\n",
              "       [0.53026531, 0.60852008, 0.86163731, 0.66091375, 0.07951131],\n",
              "       [0.52530822, 0.5279288 , 0.533094  , 0.63253748, 0.44249509]])"
            ]
          },
          "metadata": {},
          "execution_count": 15
        }
      ]
    },
    {
      "cell_type": "code",
      "source": [
        "def vertical_stack(*args):\n",
        "    arrays = []\n",
        "    for arr in args:\n",
        "        if isinstance(arr, np.ndarray):\n",
        "            arrays.append(arr)\n",
        "        else:\n",
        "            raise ValueError(\"All inputs must be numpy arrays\")\n",
        "\n",
        "    return np.vstack(arrays)\n",
        "\n",
        "vertical_stack(a,b)"
      ],
      "metadata": {
        "colab": {
          "base_uri": "https://localhost:8080/"
        },
        "id": "cJPyYAKfnkJt",
        "outputId": "fce77552-4c17-4151-e4c6-731e80764e76"
      },
      "execution_count": null,
      "outputs": [
        {
          "output_type": "execute_result",
          "data": {
            "text/plain": [
              "array([[0, 1, 2, 3, 4],\n",
              "       [5, 6, 7, 8, 9],\n",
              "       [1, 1, 1, 1, 1],\n",
              "       [1, 1, 1, 1, 1]])"
            ]
          },
          "metadata": {},
          "execution_count": 14
        }
      ]
    },
    {
      "cell_type": "markdown",
      "source": [
        "### `Q-13:` Dates\n",
        "\n",
        "Create a python function named **date_array** that accepts two dates as string format and returns a numpy array of dates between those 2 dates. The function only accept 2 strings, otherwise raise error. The date format should be like this only: `2022-12-6`. The end date should be included and for simplicity, choose dates from a same year.\n",
        "\n"
      ],
      "metadata": {
        "id": "3mk8T6CuC2DP"
      }
    },
    {
      "cell_type": "markdown",
      "source": [
        "**Example 1:**\n",
        "\n",
        "Input:\n",
        "```bash\n",
        "date_array(start = '2020-09-15', end = '2020-09-25')\n",
        "```\n",
        "\n",
        "Output:\n",
        "```bash\n",
        "['2020-09-15', '2020-09-16', '2020-09-17', '2020-09-18',\n",
        " '2020-09-19', '2020-09-20', '2020-09-21', '2020-09-22',\n",
        " '2020-09-23', '2020-09-24', '2020-09-25']\n",
        "```\n",
        "\n",
        "**Example 2:**\n",
        "\n",
        "Input:\n",
        "```bash\n",
        "date_array(start = '2022-12-01', end = '2022-12-06')\n",
        "```\n",
        "\n",
        "Output:\n",
        "```bash\n",
        "['2022-12-01', '2022-12-02', '2022-12-03', '2022-12-04', '2022-12-05', '2022-12-06']\n",
        "```\n",
        "\n",
        "**Example 3:**\n",
        "\n",
        "Input:\n",
        "```bash\n",
        "date_array(start = '2020-11-25', end = '2020-11-30')\n",
        "```\n",
        "\n",
        "Output:\n",
        "```bash\n",
        "['2020-11-25', '2020-11-26', '2020-11-27', '2020-11-28',\n",
        " '2020-11-29', '2020-11-30']\n",
        "```"
      ],
      "metadata": {
        "id": "E3IgjnTTNFEk"
      }
    },
    {
      "cell_type": "code",
      "source": [
        "#Code here\n",
        "from datetime import datetime, timedelta\n",
        "\n",
        "def date_array(start: str, end: str):\n",
        "  if type(start) != str and type(end) != str:\n",
        "    raise TypeError\n",
        "\n",
        "  total_days_of_month = {'01': 31, '02': 28, '03': 31, '04': 30, '05': 31, '06': 30, '07': 31, '08': 31, '09': 30, '10': 31, '11': 30, '12': 31}\n",
        "\n",
        "  end = end.split('-')\n",
        "  end_last = int(end[-1]) + 1\n",
        "  if total_days_of_month[end[-2]] < end_last:\n",
        "    days_diff = end_last - total_days_of_month[end[-2]]\n",
        "    end[-1] = f\"0{days_diff}\" if days_diff < 10 else f\"{days_diff}\"\n",
        "    next_month = int(end[-2]) + 1\n",
        "    end[-2] = f\"0{next_month}\" if next_month < 10 else f\"{next_month}\"\n",
        "  else:\n",
        "    end[-1] = f\"0{end_last}\" if end_last < 10 else f\"{end_last}\"\n",
        "  end = \"-\".join(end)\n",
        "  return np.arange(start, end, dtype=\"datetime64[D]\")\n",
        "\n",
        "date_array(start='2015-11-05', end='2015-11-30')"
      ],
      "metadata": {
        "id": "Yj5PBfQQNTnL",
        "colab": {
          "base_uri": "https://localhost:8080/"
        },
        "outputId": "119ad4d5-6018-4b9e-9e99-275253e944e6"
      },
      "execution_count": null,
      "outputs": [
        {
          "output_type": "execute_result",
          "data": {
            "text/plain": [
              "array(['2015-11-05', '2015-11-06', '2015-11-07', '2015-11-08',\n",
              "       '2015-11-09', '2015-11-10', '2015-11-11', '2015-11-12',\n",
              "       '2015-11-13', '2015-11-14', '2015-11-15', '2015-11-16',\n",
              "       '2015-11-17', '2015-11-18', '2015-11-19', '2015-11-20',\n",
              "       '2015-11-21', '2015-11-22', '2015-11-23', '2015-11-24',\n",
              "       '2015-11-25', '2015-11-26', '2015-11-27', '2015-11-28',\n",
              "       '2015-11-29', '2015-11-30'], dtype='datetime64[D]')"
            ]
          },
          "metadata": {},
          "execution_count": 28
        }
      ]
    },
    {
      "cell_type": "markdown",
      "source": [
        "###`Q-14:` Subtract the mean of each row from a matrix."
      ],
      "metadata": {
        "id": "bcEp0wTWQijK"
      }
    },
    {
      "cell_type": "code",
      "source": [
        "#code here\n",
        "x = np.random.random((3,4))\n",
        "print(x)\n",
        "print(x.mean(axis=1, keepdims=True))\n",
        "x - x.mean(axis=1, keepdims=True)"
      ],
      "metadata": {
        "id": "rpILVGcgQzMo",
        "colab": {
          "base_uri": "https://localhost:8080/"
        },
        "outputId": "dc56de37-3693-4329-80ac-b76f01df2e01"
      },
      "execution_count": null,
      "outputs": [
        {
          "output_type": "stream",
          "name": "stdout",
          "text": [
            "[[0.02259733 0.6649023  0.09655152 0.36101446]\n",
            " [0.19731781 0.90827019 0.95193197 0.93612793]\n",
            " [0.32117766 0.47007738 0.33924806 0.33628911]]\n",
            "[[0.2862664 ]\n",
            " [0.74841197]\n",
            " [0.36669805]]\n"
          ]
        },
        {
          "output_type": "execute_result",
          "data": {
            "text/plain": [
              "array([[-0.26366907,  0.37863589, -0.18971488,  0.07474806],\n",
              "       [-0.55109416,  0.15985822,  0.20351999,  0.18771595],\n",
              "       [-0.04552039,  0.10337933, -0.02744999, -0.03040895]])"
            ]
          },
          "metadata": {},
          "execution_count": 33
        }
      ]
    },
    {
      "cell_type": "markdown",
      "source": [
        "###`Q-15:` Swap column-1 of array with column-2 in the array."
      ],
      "metadata": {
        "id": "A-dMVlPPSBTT"
      }
    },
    {
      "cell_type": "code",
      "source": [
        "#Code here\n",
        "a =  np.arange(12).reshape(3,4)\n",
        "print(a)\n",
        "a[:, [1,2]] = a[: , [2,1]]\n",
        "print(a)"
      ],
      "metadata": {
        "id": "3RtngM9-Q6S7",
        "colab": {
          "base_uri": "https://localhost:8080/"
        },
        "outputId": "2ae7d79c-616e-4344-8fec-406a1f7b0cfa"
      },
      "execution_count": null,
      "outputs": [
        {
          "output_type": "stream",
          "name": "stdout",
          "text": [
            "[[ 0  1  2  3]\n",
            " [ 4  5  6  7]\n",
            " [ 8  9 10 11]]\n",
            "[[ 0  2  1  3]\n",
            " [ 4  6  5  7]\n",
            " [ 8 10  9 11]]\n"
          ]
        }
      ]
    },
    {
      "cell_type": "code",
      "source": [],
      "metadata": {
        "id": "ueoMV_LlSnGU"
      },
      "execution_count": null,
      "outputs": []
    },
    {
      "cell_type": "markdown",
      "source": [
        "###`Q-16:` Replace odd elements in arrays with -1."
      ],
      "metadata": {
        "id": "cB4VMexvS6Zi"
      }
    },
    {
      "cell_type": "code",
      "source": [
        "#Code here\n",
        "def replace(a):\n",
        "  a[a % 2 != 0] = -1\n",
        "  return a\n",
        "\n",
        "a = np.array([1,2,3,4,5,6,7,8,9,10])\n",
        "replace(a)"
      ],
      "metadata": {
        "id": "Bt83nXEVS5O4",
        "colab": {
          "base_uri": "https://localhost:8080/"
        },
        "outputId": "00172193-bf65-4584-a3f1-3c854d7a0d6a"
      },
      "execution_count": null,
      "outputs": [
        {
          "output_type": "execute_result",
          "data": {
            "text/plain": [
              "array([-1,  2, -1,  4, -1,  6, -1,  8, -1, 10])"
            ]
          },
          "metadata": {},
          "execution_count": 39
        }
      ]
    },
    {
      "cell_type": "code",
      "source": [],
      "metadata": {
        "id": "1ZlvMaXLVyoW"
      },
      "execution_count": null,
      "outputs": []
    },
    {
      "cell_type": "markdown",
      "source": [
        "###`Q-17:` Given two arrays of same shape make an array of max out of two arrays. (Numpy way)\n",
        "```\n",
        "a=np.array([6,3,1,5,8])\n",
        "b=np.array([3,2,1,7,2])\n",
        "\n",
        "Result-> [6 3 1 7 8]\n",
        "```"
      ],
      "metadata": {
        "id": "kf_qvmBxWIT_"
      }
    },
    {
      "cell_type": "code",
      "source": [
        "#Code here\n",
        "a=np.array([6,3,1,5,8])\n",
        "b=np.array([3,2,1,7,2])\n",
        "\n",
        "print(a >b)\n",
        "print(b < a)\n",
        "\n",
        "b[a>b] = a[b<a]\n",
        "print(a)\n",
        "print(b)"
      ],
      "metadata": {
        "id": "TB9ZvF-EZSfu",
        "colab": {
          "base_uri": "https://localhost:8080/"
        },
        "outputId": "845a9613-49f7-4831-fc06-d510cf736f83"
      },
      "execution_count": null,
      "outputs": [
        {
          "output_type": "stream",
          "name": "stdout",
          "text": [
            "[ True  True False False  True]\n",
            "[ True  True False False  True]\n",
            "[6 3 1 5 8]\n",
            "[6 3 1 7 8]\n"
          ]
        }
      ]
    },
    {
      "cell_type": "code",
      "source": [
        "def max_array(arr1, arr2):\n",
        "    result = np.maximum(arr1, arr2)\n",
        "    return result\n",
        "\n",
        "max_array(a, b)\n"
      ],
      "metadata": {
        "id": "D7ad-A6jZzCL",
        "colab": {
          "base_uri": "https://localhost:8080/"
        },
        "outputId": "a9d13bc7-f362-44d5-c29b-b286374ef7c5"
      },
      "execution_count": null,
      "outputs": [
        {
          "output_type": "execute_result",
          "data": {
            "text/plain": [
              "array([6, 3, 1, 7, 8])"
            ]
          },
          "metadata": {},
          "execution_count": 50
        }
      ]
    },
    {
      "cell_type": "markdown",
      "source": [
        "###`Q-18` Answer below asked questions on given array:\n",
        "1. Fetch Every alternate column of the array\n",
        "2. Normalise the given array\n",
        "\n",
        "https://en.wikipedia.org/wiki/Normalization_(statistics)\n",
        "\n",
        "There are different form of normalisation for this question use below formula.\n",
        "\n",
        "$$\\large X_{normalized} = \\frac{X - X_{min}}{X_{max} - X_{min}}$$\n",
        "\n",
        "```python\n",
        "arr1=np.random.randint(low=1, high=10000, size=40).reshape(8,5)\n",
        "```\n"
      ],
      "metadata": {
        "id": "iOQLUIeGc3zA"
      }
    },
    {
      "cell_type": "code",
      "source": [
        "# Given\n",
        "arr1=np.random.randint(low=1, high=10000, size=40).reshape(8,5)\n",
        "arr1"
      ],
      "metadata": {
        "colab": {
          "base_uri": "https://localhost:8080/"
        },
        "id": "vjSm18k3d_1p",
        "outputId": "be675ecf-888a-4af7-cc02-f1cd715c30ed"
      },
      "execution_count": null,
      "outputs": [
        {
          "output_type": "execute_result",
          "data": {
            "text/plain": [
              "array([[3931, 7686,   73, 5113, 2977],\n",
              "       [7769, 5047, 2795, 3581, 3884],\n",
              "       [3798,  767, 4213, 1318, 8019],\n",
              "       [9315, 9660, 9449,  626, 9832],\n",
              "       [8751, 6520, 2824, 3229, 2591],\n",
              "       [9694, 8299, 3026, 5446, 5950],\n",
              "       [4040, 6777, 1206, 1099, 1227],\n",
              "       [5018, 4500, 5974,  683, 4960]])"
            ]
          },
          "metadata": {},
          "execution_count": 54
        }
      ]
    },
    {
      "cell_type": "code",
      "source": [
        "#Code here\n",
        "arr1[:, ::2]\n"
      ],
      "metadata": {
        "id": "d7u8DB47eBfQ",
        "colab": {
          "base_uri": "https://localhost:8080/"
        },
        "outputId": "ad0c5b91-1810-4b62-a567-59dd84c161d1"
      },
      "execution_count": null,
      "outputs": [
        {
          "output_type": "execute_result",
          "data": {
            "text/plain": [
              "array([[3931,   73, 2977],\n",
              "       [7769, 2795, 3884],\n",
              "       [3798, 4213, 8019],\n",
              "       [9315, 9449, 9832],\n",
              "       [8751, 2824, 2591],\n",
              "       [9694, 3026, 5950],\n",
              "       [4040, 1206, 1227],\n",
              "       [5018, 5974, 4960]])"
            ]
          },
          "metadata": {},
          "execution_count": 55
        }
      ]
    },
    {
      "cell_type": "code",
      "source": [
        "(arr1 - arr1.min()) / (arr1.max() - arr1.min())"
      ],
      "metadata": {
        "colab": {
          "base_uri": "https://localhost:8080/"
        },
        "id": "xkxg1eWsaPlw",
        "outputId": "65eddd39-25b0-4f9b-ac8d-6cd7bdc86cd7"
      },
      "execution_count": null,
      "outputs": [
        {
          "output_type": "execute_result",
          "data": {
            "text/plain": [
              "array([[0.39532739, 0.78010042, 0.        , 0.51644636, 0.29757147],\n",
              "       [0.78860539, 0.50968337, 0.27892202, 0.35946306, 0.39051132],\n",
              "       [0.38169894, 0.07111384, 0.42422379, 0.12757455, 0.81422277],\n",
              "       [0.94702326, 0.98237524, 0.96075418, 0.05666564, 1.        ],\n",
              "       [0.88923045, 0.66062097, 0.28189364, 0.32339379, 0.25801824],\n",
              "       [0.98585921, 0.84291423, 0.30259248, 0.55056871, 0.60221334],\n",
              "       [0.40649657, 0.68695563, 0.11609796, 0.10513372, 0.11824982],\n",
              "       [0.50671175, 0.45363254, 0.60467261, 0.0625064 , 0.50076852]])"
            ]
          },
          "metadata": {},
          "execution_count": 57
        }
      ]
    },
    {
      "cell_type": "markdown",
      "source": [
        "###`Q-19:` Write a function which will accept 2 arguments.\n",
        "First: A 1D numpy array arr\n",
        "\n",
        "Second: An integer n {Please make sure n<=len(arr)}\n",
        "\n",
        "Output: The output should be the nth largest item out of the array\n",
        "```\n",
        "# Example1 : arr=(12,34,40,7,1,0) and n=3, the output should be 12\n",
        "# Example2 : arr=(12,34,40,7,1,0) and n=1, the output should be 40\n",
        "```"
      ],
      "metadata": {
        "id": "jCzsVEKLgGNo"
      }
    },
    {
      "cell_type": "code",
      "source": [
        "#Code here\n",
        "def largest_item(arr, n):\n",
        "  if n > len(arr):\n",
        "    raise IndexError(\"n is large\")\n",
        "\n",
        "  arr.sort()\n",
        "  return arr[-n]\n",
        "\n",
        "a = np.array([12,34,40, 7,1,0])\n",
        "largest_item(a, 1)"
      ],
      "metadata": {
        "id": "J4AzkDk7gXSG",
        "colab": {
          "base_uri": "https://localhost:8080/"
        },
        "outputId": "517b5d9b-06a3-44f0-e134-8ee44d90fa67"
      },
      "execution_count": null,
      "outputs": [
        {
          "output_type": "execute_result",
          "data": {
            "text/plain": [
              "40"
            ]
          },
          "metadata": {},
          "execution_count": 59
        }
      ]
    },
    {
      "cell_type": "markdown",
      "source": [
        "###`Q-20:` Create the following pattern without hardcoding. Use only numpy functions and the below input array a.\n",
        "```\n",
        "# Input: a = np.array([1,2,3])\n",
        "# Output: array([1, 1, 1, 2, 2, 2, 3, 3, 3, 1, 2, 3, 1, 2, 3, 1, 2, 3])\n",
        "```"
      ],
      "metadata": {
        "id": "ja0xPCgjhBsg"
      }
    },
    {
      "cell_type": "code",
      "source": [
        "#code here\n",
        "a = np.array([1,2,3])\n",
        "b = np.repeat(a,3)\n",
        "print(b)\n",
        "c = np.tile(a,3)\n",
        "print(c)\n",
        "np.hstack([b,c])"
      ],
      "metadata": {
        "id": "CndS8TTNhG0F",
        "colab": {
          "base_uri": "https://localhost:8080/"
        },
        "outputId": "ec529393-e5fb-4e05-c5db-007d367160c4"
      },
      "execution_count": null,
      "outputs": [
        {
          "output_type": "stream",
          "name": "stdout",
          "text": [
            "[1 1 1 2 2 2 3 3 3]\n",
            "[1 2 3 1 2 3 1 2 3]\n"
          ]
        },
        {
          "output_type": "execute_result",
          "data": {
            "text/plain": [
              "array([1, 1, 1, 2, 2, 2, 3, 3, 3, 1, 2, 3, 1, 2, 3, 1, 2, 3])"
            ]
          },
          "metadata": {},
          "execution_count": 65
        }
      ]
    },
    {
      "cell_type": "code",
      "source": [],
      "metadata": {
        "id": "l3JG7q83jcEc"
      },
      "execution_count": null,
      "outputs": []
    }
  ]
}