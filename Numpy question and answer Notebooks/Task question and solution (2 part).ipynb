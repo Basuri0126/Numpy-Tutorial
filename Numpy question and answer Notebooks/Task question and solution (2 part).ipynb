{
  "nbformat": 4,
  "nbformat_minor": 0,
  "metadata": {
    "colab": {
      "provenance": []
    },
    "kernelspec": {
      "name": "python3",
      "display_name": "Python 3"
    },
    "language_info": {
      "name": "python"
    }
  },
  "cells": [
    {
      "cell_type": "markdown",
      "source": [
        "###`Q-1:` Create a random 3x4 matrix with value between 0-100. And perform below tasks\n",
        "\n",
        "    i. Sort this matrix. np.sort()\n",
        "    ii. Sort this matrix based on values in 2nd column.\n",
        "    iii. Sort this matrix based on max value in each row.\n",
        "    iv. Sort based on elements value.\n"
      ],
      "metadata": {
        "id": "J88qfqQEk_sT"
      }
    },
    {
      "cell_type": "markdown",
      "source": [
        "See examples:\n",
        "```\n",
        "arr =\n",
        "    [[92 90 74]\n",
        "    [ 6 63 93]\n",
        "    [15 93 96]\n",
        "    [70 60 48]]\n",
        "```\n",
        "```\n",
        "i. np.sort\n",
        "[[74 90 92]\n",
        " [ 6 63 93]\n",
        " [15 93 96]\n",
        " [48 60 70]]\n",
        "\n",
        "ii. based on 2nd column\n",
        "[[70 60 48]\n",
        " [ 6 63 93]\n",
        " [92 90 74]\n",
        " [15 93 96]]\n",
        "\n",
        "iii. based on row max- ascending\n",
        "[[15 93 96]\n",
        " [ 6 63 93]\n",
        " [92 90 74]\n",
        " [70 60 48]]\n",
        "\n",
        "iv. based on elements value\n",
        "[[ 6 15 48]\n",
        " [60 63 70]\n",
        " [74 90 92]\n",
        " [93 93 96]]\n",
        "\n",
        "```"
      ],
      "metadata": {
        "id": "xpOwOdhqlE9R"
      }
    },
    {
      "cell_type": "code",
      "source": [
        "# code here\n",
        "import numpy as np\n",
        "\n",
        "arr = np.random.randint(1,100, (3,4))\n",
        "print(arr)\n",
        "print(np.sort(arr))\n",
        "print(arr[arr[:,1].argsort()])\n",
        "\n",
        "print(np.array(sorted(arr, key= lambda x: max(x))))\n",
        "\n",
        "print(np.sort(arr, axis=None).reshape(3,4))"
      ],
      "metadata": {
        "id": "Auy-guUwlALv",
        "colab": {
          "base_uri": "https://localhost:8080/"
        },
        "outputId": "ac7a5e81-410f-4871-bf55-e4fee2ebd882"
      },
      "execution_count": null,
      "outputs": [
        {
          "output_type": "stream",
          "name": "stdout",
          "text": [
            "[[13 88 25 19]\n",
            " [63 39 79 14]\n",
            " [ 5 52  5 69]]\n",
            "[[13 19 25 88]\n",
            " [14 39 63 79]\n",
            " [ 5  5 52 69]]\n",
            "[[63 39 79 14]\n",
            " [ 5 52  5 69]\n",
            " [13 88 25 19]]\n",
            "[[ 5 52  5 69]\n",
            " [63 39 79 14]\n",
            " [13 88 25 19]]\n",
            "[[ 5  5 13 14]\n",
            " [19 25 39 52]\n",
            " [63 69 79 88]]\n"
          ]
        }
      ]
    },
    {
      "cell_type": "markdown",
      "source": [
        "###`Q-2:` There is an array of marks of 5 students in 4 subjects. Further you are asked to perform below task.\n",
        "    i. Add marks every student of an extra subject in the same array.\n",
        "    ii. Add two new students marks in respective 5 subjects.(one subject added in above task)\n",
        "    iii. Add extra column with sum of all subjects(5-subjects) marks\n",
        "    iv. Sort the array(non-ascending order) on total marks column--one added in above task. Show top 2 rows.\n",
        "\n",
        "Note: Change dimension of arrays during concatenation or appending if required."
      ],
      "metadata": {
        "id": "Jx_I3gx9lBay"
      }
    },
    {
      "cell_type": "markdown",
      "source": [
        "Given Array-\n",
        "```\n",
        "marks = [[13, 10,  9, 33],\n",
        "       [63, 46, 90, 42],\n",
        "       [39, 76, 13, 29],\n",
        "       [82,  9, 29, 78],\n",
        "       [67, 61, 59, 36]]\n",
        "\n",
        "extra_subject = [41, 87, 72, 36, 92]\n",
        "#Two extra students record-\n",
        "rec1 = [77, 83, 98, 95, 89]\n",
        "rec2 = [92, 71, 52, 61, 53]\n",
        "```"
      ],
      "metadata": {
        "id": "lXF-CE6ylNIw"
      }
    },
    {
      "cell_type": "code",
      "source": [
        "# code here\n",
        "marks = np.random.randint(50,100, (5,4))\n",
        "print(marks)\n",
        "\n",
        "extra_subject = np.array([41, 87, 72, 36, 92]).reshape(-1,1)\n",
        "print(extra_subject)\n",
        "# np.hstack((marks, extra_subject))\n",
        "marks = np.concatenate([marks, extra_subject], axis=1)\n",
        "\n",
        "# 2\n",
        "# Two extra students record-\n",
        "rec1 = np.array([77, 83, 98, 95, 89]).reshape(1,-1)\n",
        "rec2 = np.array([92, 71, 52, 61, 53]).reshape(1,-1)\n",
        "\n",
        "marks = np.concatenate([marks, rec1, rec2], axis=0)\n",
        "\n",
        "#3\n",
        "\n",
        "sum_of_marks = marks.sum(axis = 1, keepdims=True)\n",
        "print(sum_of_marks)\n",
        "\n",
        "marks = np.concatenate([marks, sum_of_marks], axis=1)\n",
        "print(marks)\n",
        "\n",
        "np.array(sorted(marks, key = lambda x: x[-1], reverse=True))"
      ],
      "metadata": {
        "id": "7YKsWO2olMkq",
        "colab": {
          "base_uri": "https://localhost:8080/"
        },
        "outputId": "5d887170-1778-41b7-e1ce-562a81a6835b"
      },
      "execution_count": null,
      "outputs": [
        {
          "output_type": "stream",
          "name": "stdout",
          "text": [
            "[[90 60 89 87]\n",
            " [59 59 85 68]\n",
            " [68 50 51 97]\n",
            " [91 62 74 96]\n",
            " [95 56 55 91]]\n",
            "[[41]\n",
            " [87]\n",
            " [72]\n",
            " [36]\n",
            " [92]]\n",
            "[[367]\n",
            " [358]\n",
            " [338]\n",
            " [359]\n",
            " [389]\n",
            " [442]\n",
            " [329]]\n",
            "[[ 90  60  89  87  41 367]\n",
            " [ 59  59  85  68  87 358]\n",
            " [ 68  50  51  97  72 338]\n",
            " [ 91  62  74  96  36 359]\n",
            " [ 95  56  55  91  92 389]\n",
            " [ 77  83  98  95  89 442]\n",
            " [ 92  71  52  61  53 329]]\n"
          ]
        },
        {
          "output_type": "execute_result",
          "data": {
            "text/plain": [
              "array([[ 77,  83,  98,  95,  89, 442],\n",
              "       [ 95,  56,  55,  91,  92, 389],\n",
              "       [ 90,  60,  89,  87,  41, 367],\n",
              "       [ 91,  62,  74,  96,  36, 359],\n",
              "       [ 59,  59,  85,  68,  87, 358],\n",
              "       [ 68,  50,  51,  97,  72, 338],\n",
              "       [ 92,  71,  52,  61,  53, 329]])"
            ]
          },
          "metadata": {},
          "execution_count": 40
        }
      ]
    },
    {
      "cell_type": "markdown",
      "source": [
        "###`Q-3:` Find unique arrays from a 2D array column wise and row wise.\n",
        "```\n",
        "arr = np.array([[1,2,3,3,1,1],\n",
        "                [0,9,1,2,8,8],\n",
        "                [1,2,3,8,8,8],\n",
        "                [1,2,3,3,1,1]])\n",
        "```\n",
        "Expected Result-\n",
        "```\n",
        "Row Wise\n",
        "[[0 9 1 2 8 8]\n",
        " [1 2 3 3 1 1]\n",
        " [1 2 3 8 8 8]]\n",
        "\n",
        "Col Wise\n",
        "[[1 1 2 3 3]\n",
        " [0 8 9 1 2]\n",
        " [1 8 2 3 8]\n",
        " [1 1 2 3 3]]\n",
        "```"
      ],
      "metadata": {
        "id": "VmOyK_8klRqR"
      }
    },
    {
      "cell_type": "code",
      "source": [
        "# code here\n",
        "arr = np.array([[1,2,3,3,1,1],\n",
        "                [0,9,1,2,8,8],\n",
        "                [1,2,3,8,8,8],\n",
        "                [1,2,3,3,1,1]])\n",
        "\n",
        "print(np.unique(arr, axis=0))\n",
        "\n",
        "# 2\n",
        "print(np.unique(arr, axis=1))"
      ],
      "metadata": {
        "id": "LJl10VQrlU5q",
        "colab": {
          "base_uri": "https://localhost:8080/"
        },
        "outputId": "926938a0-122e-4866-984a-08233405ebe8"
      },
      "execution_count": null,
      "outputs": [
        {
          "output_type": "stream",
          "name": "stdout",
          "text": [
            "[[0 9 1 2 8 8]\n",
            " [1 2 3 3 1 1]\n",
            " [1 2 3 8 8 8]]\n",
            "[[1 1 2 3 3]\n",
            " [0 8 9 1 2]\n",
            " [1 8 2 3 8]\n",
            " [1 1 2 3 3]]\n"
          ]
        }
      ]
    },
    {
      "cell_type": "markdown",
      "source": [
        "###`Q-4:` Flip given 2-D array along both axes at the same time."
      ],
      "metadata": {
        "id": "RaXwVkywlWY2"
      }
    },
    {
      "cell_type": "code",
      "source": [
        "# code here\n",
        "arr = np.array([[1,2,3,3,1,1],\n",
        "                [0,9,1,2,8,8],\n",
        "                [1,2,3,8,8,8],\n",
        "                [1,2,3,3,1,1]])\n",
        "\n",
        "np.flip(arr, axis=[0,1])"
      ],
      "metadata": {
        "id": "mN7-4G8Kleeq",
        "colab": {
          "base_uri": "https://localhost:8080/"
        },
        "outputId": "5e64f52a-ed3f-4297-81fe-47b6b5f4d023"
      },
      "execution_count": null,
      "outputs": [
        {
          "output_type": "execute_result",
          "data": {
            "text/plain": [
              "array([[1, 1, 3, 3, 2, 1],\n",
              "       [8, 8, 8, 3, 2, 1],\n",
              "       [8, 8, 2, 1, 9, 0],\n",
              "       [1, 1, 3, 3, 2, 1]])"
            ]
          },
          "metadata": {},
          "execution_count": 45
        }
      ]
    },
    {
      "cell_type": "markdown",
      "source": [
        "### `Q-5:` Get row numbers of NumPy array having element larger than X.\n",
        "```\n",
        "arr = [[1,2,3,4,5],\n",
        "      [10,-3,30,4,5],\n",
        "      [3,2,5,-4,5],\n",
        "      [9,7,3,6,5]]\n",
        "\n",
        "X = 6\n",
        "```"
      ],
      "metadata": {
        "id": "X0S7BUNTlfoq"
      }
    },
    {
      "cell_type": "code",
      "source": [
        "# code here\n",
        "arr = np.array([[1,2,3,4,5],\n",
        "      [10,-3,30,4,5],\n",
        "      [3,2,5,-4,5],\n",
        "      [9,7,3,6,5]])\n",
        "\n",
        "x = 6\n",
        "\n",
        "np.where(np.any(arr > 6, axis=1))"
      ],
      "metadata": {
        "id": "bi8jRmWhlkBU",
        "colab": {
          "base_uri": "https://localhost:8080/"
        },
        "outputId": "1c24dbfd-76dc-45cd-da70-1d604fc9cf60"
      },
      "execution_count": null,
      "outputs": [
        {
          "output_type": "execute_result",
          "data": {
            "text/plain": [
              "(array([1, 3]),)"
            ]
          },
          "metadata": {},
          "execution_count": 49
        }
      ]
    },
    {
      "cell_type": "markdown",
      "source": [
        "### `Q-6:` How to convert an array of arrays into a flat 1d array?\n"
      ],
      "metadata": {
        "id": "DSCQMo4mlnDG"
      }
    },
    {
      "cell_type": "code",
      "source": [
        "# These arrays are given.\n",
        "arr1 = np.arange(3)\n",
        "arr2 = np.arange(3,7)\n",
        "arr3 = np.arange(7,10)"
      ],
      "metadata": {
        "id": "QZhSkUT2lsJW"
      },
      "execution_count": null,
      "outputs": []
    },
    {
      "cell_type": "code",
      "source": [
        "# code here\n",
        "np.concatenate([arr1, arr2, arr3])"
      ],
      "metadata": {
        "id": "f42OXNrFls0I",
        "colab": {
          "base_uri": "https://localhost:8080/"
        },
        "outputId": "1620be4f-392b-4285-d4cc-3894eed498fb"
      },
      "execution_count": null,
      "outputs": [
        {
          "output_type": "execute_result",
          "data": {
            "text/plain": [
              "array([0, 1, 2, 3, 4, 5, 6, 7, 8, 9])"
            ]
          },
          "metadata": {},
          "execution_count": 52
        }
      ]
    },
    {
      "cell_type": "markdown",
      "source": [
        "### `Q-7:` You are given a array. You have to find the minimum and maximum array element and remove that from the array.\n",
        "\n",
        "```python\n",
        "import numpy as np\n",
        "\n",
        "np.random.seed(400)\n",
        "arr = np.random.randint(100, 1000, 200).reshape((1, 200))\n",
        "```"
      ],
      "metadata": {
        "id": "A1J4oOVCluqO"
      }
    },
    {
      "cell_type": "code",
      "source": [
        "# code here\n",
        "import numpy as np\n",
        "np.random.seed(400)\n",
        "arr = np.random.randint(100, 1000, 200).reshape((1, 200))\n",
        "print(arr)\n",
        "min_element = arr.argmin()\n",
        "max_element = arr.argmax()\n",
        "\n",
        "print(max_element, min_element)\n",
        "arr= np.delete(arr, max_element, axis=1)\n",
        "arr = np.delete(arr, min_element, axis=1)\n",
        "\n",
        "print(arr.max(), arr.min())"
      ],
      "metadata": {
        "id": "c6kmgtUJlybZ",
        "colab": {
          "base_uri": "https://localhost:8080/"
        },
        "outputId": "8b01fd39-ae97-47a9-c0da-e8495ea04534"
      },
      "execution_count": null,
      "outputs": [
        {
          "output_type": "stream",
          "name": "stdout",
          "text": [
            "[[448 563 418 240 507 362 345 236 719 291 298 639 458 387 262 613 267 882\n",
            "  181 425 790 635 889 818 872 967 277 470 336 920 917 295 557 830 506 385\n",
            "  353 975 592 997 137 340 222 215 472 459 617 649 935 956 914 932 645 952\n",
            "  921 490 527 972 278 307 840 958 246 449 251 957 103 627 920 824 356 825\n",
            "  173 323 372 960 710 464 244 782 763 635 436 774 171 469 178 458 624 211\n",
            "  771 270 308 231 952 514 699 702 433 900 373 318 998 265 503 320 230 324\n",
            "  922 967 620 743 527 117 566 804 123 946 587 227 853 757 944 328 855 930\n",
            "  325 729 426 514 296 879 575 936 705 209 191 743 510 513 628 559 658 528\n",
            "  395 525 922 136 496 225 895 975 263 908 420 711 800 976 786 235 930 859\n",
            "  618 226 695 460 218 483 490 803 621 453 193 607 677 637 728 724 534 748\n",
            "  291 194 761 875 687 569 228 482 781 554 654 739 885 197 266 228 892 207\n",
            "  883 588]]\n",
            "102 66\n",
            "997 117\n"
          ]
        }
      ]
    },
    {
      "cell_type": "markdown",
      "source": [
        "### `Q-8:` You are given an arrays. You have to limit this array's elements between 100 to 200. $arr ∈ [100, 700]$. So replace those values accordingly with the minimum and maximum value. Then sort the array and perform the cumulative sum of that array."
      ],
      "metadata": {
        "id": "0dHN1sdnl0Jy"
      }
    },
    {
      "cell_type": "code",
      "source": [
        "# code here\n",
        "arr = np.random.randint(0,500, 300)\n",
        "np.cumsum(np.sort(np.clip(arr, 100, 200)))"
      ],
      "metadata": {
        "id": "a3YF_E-Hlza7",
        "colab": {
          "base_uri": "https://localhost:8080/"
        },
        "outputId": "781ca025-b21d-4803-a81f-dc660f090674"
      },
      "execution_count": null,
      "outputs": [
        {
          "output_type": "execute_result",
          "data": {
            "text/plain": [
              "array([  100,   200,   300,   400,   500,   600,   700,   800,   900,\n",
              "        1000,  1100,  1200,  1300,  1400,  1500,  1600,  1700,  1800,\n",
              "        1900,  2000,  2100,  2200,  2300,  2400,  2500,  2600,  2700,\n",
              "        2800,  2900,  3000,  3100,  3200,  3300,  3400,  3500,  3600,\n",
              "        3700,  3800,  3900,  4000,  4100,  4200,  4300,  4400,  4500,\n",
              "        4600,  4700,  4800,  4900,  5000,  5100,  5200,  5300,  5400,\n",
              "        5500,  5600,  5700,  5800,  5900,  6000,  6100,  6200,  6300,\n",
              "        6400,  6500,  6601,  6706,  6813,  6922,  7034,  7146,  7260,\n",
              "        7377,  7494,  7613,  7736,  7861,  7988,  8115,  8243,  8372,\n",
              "        8501,  8630,  8761,  8895,  9029,  9165,  9302,  9442,  9585,\n",
              "        9731,  9877, 10024, 10172, 10321, 10471, 10621, 10773, 10927,\n",
              "       11081, 11237, 11394, 11551, 11708, 11866, 12025, 12184, 12343,\n",
              "       12503, 12669, 12836, 13005, 13178, 13352, 13527, 13702, 13877,\n",
              "       14054, 14231, 14409, 14589, 14770, 14953, 15138, 15323, 15508,\n",
              "       15694, 15881, 16070, 16260, 16451, 16645, 16839, 17034, 17230,\n",
              "       17428, 17626, 17825, 18024, 18223, 18422, 18622, 18822, 19022,\n",
              "       19222, 19422, 19622, 19822, 20022, 20222, 20422, 20622, 20822,\n",
              "       21022, 21222, 21422, 21622, 21822, 22022, 22222, 22422, 22622,\n",
              "       22822, 23022, 23222, 23422, 23622, 23822, 24022, 24222, 24422,\n",
              "       24622, 24822, 25022, 25222, 25422, 25622, 25822, 26022, 26222,\n",
              "       26422, 26622, 26822, 27022, 27222, 27422, 27622, 27822, 28022,\n",
              "       28222, 28422, 28622, 28822, 29022, 29222, 29422, 29622, 29822,\n",
              "       30022, 30222, 30422, 30622, 30822, 31022, 31222, 31422, 31622,\n",
              "       31822, 32022, 32222, 32422, 32622, 32822, 33022, 33222, 33422,\n",
              "       33622, 33822, 34022, 34222, 34422, 34622, 34822, 35022, 35222,\n",
              "       35422, 35622, 35822, 36022, 36222, 36422, 36622, 36822, 37022,\n",
              "       37222, 37422, 37622, 37822, 38022, 38222, 38422, 38622, 38822,\n",
              "       39022, 39222, 39422, 39622, 39822, 40022, 40222, 40422, 40622,\n",
              "       40822, 41022, 41222, 41422, 41622, 41822, 42022, 42222, 42422,\n",
              "       42622, 42822, 43022, 43222, 43422, 43622, 43822, 44022, 44222,\n",
              "       44422, 44622, 44822, 45022, 45222, 45422, 45622, 45822, 46022,\n",
              "       46222, 46422, 46622, 46822, 47022, 47222, 47422, 47622, 47822,\n",
              "       48022, 48222, 48422, 48622, 48822, 49022, 49222, 49422, 49622,\n",
              "       49822, 50022, 50222])"
            ]
          },
          "metadata": {},
          "execution_count": 11
        }
      ]
    },
    {
      "cell_type": "markdown",
      "source": [
        "### `Q-9:` You are given a array ($arr ∈ [0, 1]$). First you have round off the elements upto 3 decimal places and compare that\n",
        "- 0th percentile == minimum value of the array\n",
        "- 100th percentile == maximum value of the array\n",
        "- also find the difference betwen 51th percenile and 50th percentile values"
      ],
      "metadata": {
        "id": "cXj90Susl4-I"
      }
    },
    {
      "cell_type": "code",
      "source": [
        "# code here\n",
        "arr = np.random.random(100)\n",
        "arr = np.around(arr, decimals=3)\n",
        "arr"
      ],
      "metadata": {
        "id": "SgBEHodgl7Lo",
        "colab": {
          "base_uri": "https://localhost:8080/"
        },
        "outputId": "e848605e-b669-4284-fc4c-3012a9157edb"
      },
      "execution_count": null,
      "outputs": [
        {
          "output_type": "execute_result",
          "data": {
            "text/plain": [
              "array([0.119, 0.839, 0.371, 0.798, 0.542, 0.355, 0.456, 0.087, 0.652,\n",
              "       0.373, 0.994, 0.511, 0.017, 0.438, 0.649, 0.287, 0.31 , 0.198,\n",
              "       0.809, 0.233, 0.605, 0.988, 0.413, 0.544, 0.771, 0.765, 0.975,\n",
              "       0.115, 0.822, 0.081, 0.123, 0.033, 0.22 , 0.354, 0.972, 0.456,\n",
              "       0.557, 0.662, 0.073, 0.847, 0.371, 0.85 , 0.806, 0.485, 0.358,\n",
              "       0.086, 0.524, 0.26 , 0.958, 0.521, 0.69 , 0.778, 0.847, 0.198,\n",
              "       0.094, 0.901, 0.963, 0.224, 0.553, 0.083, 0.703, 0.074, 0.5  ,\n",
              "       0.346, 0.333, 0.492, 0.345, 0.672, 0.621, 0.526, 0.139, 0.372,\n",
              "       0.285, 0.996, 0.937, 0.626, 0.889, 0.84 , 0.598, 0.265, 0.884,\n",
              "       0.468, 0.634, 0.392, 0.191, 0.831, 0.921, 0.807, 0.252, 0.254,\n",
              "       0.175, 0.587, 0.895, 0.613, 0.535, 0.963, 0.163, 0.585, 0.117,\n",
              "       0.28 ])"
            ]
          },
          "metadata": {},
          "execution_count": 14
        }
      ]
    },
    {
      "cell_type": "code",
      "source": [
        "print('0th percentile == minimum value of the array is =', np.percentile(arr, 0) == arr.min())"
      ],
      "metadata": {
        "colab": {
          "base_uri": "https://localhost:8080/"
        },
        "id": "JIeWRDFwlXZL",
        "outputId": "36cda8cb-373c-4e4e-a94a-a132a693a921"
      },
      "execution_count": null,
      "outputs": [
        {
          "output_type": "stream",
          "name": "stdout",
          "text": [
            "0th percentile == minimum value of the array is = True\n"
          ]
        }
      ]
    },
    {
      "cell_type": "code",
      "source": [
        "print('100th percentile == maximum value of the array is= ', np.percentile(arr, 100) == arr.max())"
      ],
      "metadata": {
        "colab": {
          "base_uri": "https://localhost:8080/"
        },
        "id": "mUtyu-bLmI62",
        "outputId": "5698f392-f16a-4a55-fd03-8e1337dbd067"
      },
      "execution_count": null,
      "outputs": [
        {
          "output_type": "stream",
          "name": "stdout",
          "text": [
            "100th percentile == maximum value of the array is=  True\n"
          ]
        }
      ]
    },
    {
      "cell_type": "code",
      "source": [
        "print('also find the difference betwen 51th percenile and 50th percentile values = ', (np.percentile(arr, 51) - (np.percentile(arr, 50))))"
      ],
      "metadata": {
        "colab": {
          "base_uri": "https://localhost:8080/"
        },
        "id": "aMdNUXfqmU5F",
        "outputId": "321ecd56-1286-46d9-c3b0-747a2270c278"
      },
      "execution_count": null,
      "outputs": [
        {
          "output_type": "stream",
          "name": "stdout",
          "text": [
            "also find the difference betwen 51th percenile and 50th percentile values =  0.006469999999999976\n"
          ]
        }
      ]
    },
    {
      "cell_type": "code",
      "source": [],
      "metadata": {
        "id": "1zYqBtXWmmhI"
      },
      "execution_count": null,
      "outputs": []
    }
  ]
}