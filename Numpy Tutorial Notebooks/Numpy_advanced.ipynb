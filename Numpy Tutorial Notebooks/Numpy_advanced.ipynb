{
  "nbformat": 4,
  "nbformat_minor": 0,
  "metadata": {
    "colab": {
      "provenance": []
    },
    "kernelspec": {
      "name": "python3",
      "display_name": "Python 3"
    },
    "language_info": {
      "name": "python"
    }
  },
  "cells": [
    {
      "cell_type": "markdown",
      "source": [
        "### Numpy array vs Python lists"
      ],
      "metadata": {
        "id": "Y9CybLs01N-n"
      }
    },
    {
      "cell_type": "code",
      "source": [
        "# speed\n",
        "# list\n",
        "a = [i for i in range(10000000)]\n",
        "b = [i for i in range(10000000, 20000000)]\n",
        "\n",
        "c = []\n",
        "import time\n",
        "start = time.time()\n",
        "for i in range(len(a)):\n",
        "  c.append(a[i] + b[i])\n",
        "print(time.time() - start)"
      ],
      "metadata": {
        "colab": {
          "base_uri": "https://localhost:8080/"
        },
        "id": "dr_LifXD25hi",
        "outputId": "7369d45a-d89e-4aab-ae28-b4149b3d54f8"
      },
      "execution_count": null,
      "outputs": [
        {
          "output_type": "stream",
          "name": "stdout",
          "text": [
            "2.1513872146606445\n"
          ]
        }
      ]
    },
    {
      "cell_type": "code",
      "source": [
        "# numpy\n",
        "import numpy as np\n",
        "a = np.arange(10000000)\n",
        "b = np.arange(10000000, 20000000)\n",
        "\n",
        "start = time.time()\n",
        "c = a + b\n",
        "print(time.time() - start)"
      ],
      "metadata": {
        "colab": {
          "base_uri": "https://localhost:8080/"
        },
        "id": "MV-xQifX3D34",
        "outputId": "30b4426c-2445-4904-83c4-d4001d198771"
      },
      "execution_count": null,
      "outputs": [
        {
          "output_type": "stream",
          "name": "stdout",
          "text": [
            "0.08092999458312988\n"
          ]
        }
      ]
    },
    {
      "cell_type": "code",
      "source": [
        "2.15/ 0.063"
      ],
      "metadata": {
        "colab": {
          "base_uri": "https://localhost:8080/"
        },
        "id": "w8T84ChV5Buq",
        "outputId": "149d5223-fc73-4386-df36-28963279e278"
      },
      "execution_count": null,
      "outputs": [
        {
          "output_type": "execute_result",
          "data": {
            "text/plain": [
              "33.922705644541296"
            ]
          },
          "metadata": {},
          "execution_count": 5
        }
      ]
    },
    {
      "cell_type": "code",
      "source": [
        "# memory\n",
        "a = [i for i in range(10000000)]\n",
        "import sys\n",
        "\n",
        "sys.getsizeof(a)"
      ],
      "metadata": {
        "colab": {
          "base_uri": "https://localhost:8080/"
        },
        "id": "G_kVSBZE5HV7",
        "outputId": "dad3d960-9c3f-4892-e917-c3e8fec09099"
      },
      "execution_count": null,
      "outputs": [
        {
          "output_type": "execute_result",
          "data": {
            "text/plain": [
              "89095160"
            ]
          },
          "metadata": {},
          "execution_count": 10
        }
      ]
    },
    {
      "cell_type": "code",
      "source": [
        "a = np.arange(100000000, dtype = np.int8)\n",
        "sys.getsizeof(a)"
      ],
      "metadata": {
        "colab": {
          "base_uri": "https://localhost:8080/"
        },
        "id": "kQhxGQT16qJb",
        "outputId": "ee33b6db-d52e-4c5b-e8fd-250934af265a"
      },
      "execution_count": null,
      "outputs": [
        {
          "output_type": "execute_result",
          "data": {
            "text/plain": [
              "100000112"
            ]
          },
          "metadata": {},
          "execution_count": 14
        }
      ]
    },
    {
      "cell_type": "code",
      "source": [
        "# time\n",
        "# memory\n",
        "# convient hai for using\n",
        "# thus numpy is btter to use instead other than python built in datatype"
      ],
      "metadata": {
        "id": "7TApcEK660W8"
      },
      "execution_count": null,
      "outputs": []
    },
    {
      "cell_type": "code",
      "source": [
        "# Normal Indexing and slicing\n",
        "a = np.arange(12).reshape(4, 3)\n",
        "a"
      ],
      "metadata": {
        "colab": {
          "base_uri": "https://localhost:8080/"
        },
        "id": "Z85mBGrn7jLq",
        "outputId": "d3773b6f-f642-4c06-d608-fb82e42b6d87"
      },
      "execution_count": null,
      "outputs": [
        {
          "output_type": "execute_result",
          "data": {
            "text/plain": [
              "array([[ 0,  1,  2],\n",
              "       [ 3,  4,  5],\n",
              "       [ 6,  7,  8],\n",
              "       [ 9, 10, 11]])"
            ]
          },
          "metadata": {},
          "execution_count": 19
        }
      ]
    },
    {
      "cell_type": "code",
      "source": [
        "a[1:3,1:]"
      ],
      "metadata": {
        "colab": {
          "base_uri": "https://localhost:8080/"
        },
        "id": "ZSAUD9nq8gBE",
        "outputId": "e4b45a00-9480-404c-93e9-a274b1d04195"
      },
      "execution_count": null,
      "outputs": [
        {
          "output_type": "execute_result",
          "data": {
            "text/plain": [
              "array([[4, 5],\n",
              "       [7, 8]])"
            ]
          },
          "metadata": {},
          "execution_count": 22
        }
      ]
    },
    {
      "cell_type": "code",
      "source": [
        "# fancing indexing\n",
        "a"
      ],
      "metadata": {
        "colab": {
          "base_uri": "https://localhost:8080/"
        },
        "id": "mBiBGuwt8inR",
        "outputId": "630f52d8-61a6-4cb3-ddc0-2b15547d8512"
      },
      "execution_count": null,
      "outputs": [
        {
          "output_type": "execute_result",
          "data": {
            "text/plain": [
              "array([[ 0,  1,  2],\n",
              "       [ 3,  4,  5],\n",
              "       [ 6,  7,  8],\n",
              "       [ 9, 10, 11]])"
            ]
          },
          "metadata": {},
          "execution_count": 23
        }
      ]
    },
    {
      "cell_type": "code",
      "source": [
        "a[[0,1,3]]"
      ],
      "metadata": {
        "colab": {
          "base_uri": "https://localhost:8080/"
        },
        "id": "TiYnGXIY83lr",
        "outputId": "84da1f53-f986-47d7-9de8-dc5a28c7ffd4"
      },
      "execution_count": null,
      "outputs": [
        {
          "output_type": "execute_result",
          "data": {
            "text/plain": [
              "array([[ 0,  1,  2],\n",
              "       [ 3,  4,  5],\n",
              "       [ 9, 10, 11]])"
            ]
          },
          "metadata": {},
          "execution_count": 26
        }
      ]
    },
    {
      "cell_type": "code",
      "source": [
        "a = np.arange(24).reshape(6,4)\n",
        "a"
      ],
      "metadata": {
        "colab": {
          "base_uri": "https://localhost:8080/"
        },
        "id": "HVOGo4oN9Zt4",
        "outputId": "e16d88dd-dc39-4119-d1c6-c21cf7a1cccc"
      },
      "execution_count": null,
      "outputs": [
        {
          "output_type": "execute_result",
          "data": {
            "text/plain": [
              "array([[ 0,  1,  2,  3],\n",
              "       [ 4,  5,  6,  7],\n",
              "       [ 8,  9, 10, 11],\n",
              "       [12, 13, 14, 15],\n",
              "       [16, 17, 18, 19],\n",
              "       [20, 21, 22, 23]])"
            ]
          },
          "metadata": {},
          "execution_count": 27
        }
      ]
    },
    {
      "cell_type": "code",
      "source": [
        "a[[0,2,3,4]]"
      ],
      "metadata": {
        "colab": {
          "base_uri": "https://localhost:8080/"
        },
        "id": "6J5fzjtv943E",
        "outputId": "89ac5baf-183e-4e32-c2ca-e9b827fd7b55"
      },
      "execution_count": null,
      "outputs": [
        {
          "output_type": "execute_result",
          "data": {
            "text/plain": [
              "array([[ 0,  1,  2,  3],\n",
              "       [ 8,  9, 10, 11],\n",
              "       [12, 13, 14, 15],\n",
              "       [16, 17, 18, 19]])"
            ]
          },
          "metadata": {},
          "execution_count": 28
        }
      ]
    },
    {
      "cell_type": "code",
      "source": [
        "a[:,[0,2,3]]"
      ],
      "metadata": {
        "colab": {
          "base_uri": "https://localhost:8080/"
        },
        "id": "Z9pHNUBg9-d0",
        "outputId": "9a776d9f-cc19-4109-bc04-7cce4599c0f6"
      },
      "execution_count": null,
      "outputs": [
        {
          "output_type": "execute_result",
          "data": {
            "text/plain": [
              "array([[ 0,  2,  3],\n",
              "       [ 4,  6,  7],\n",
              "       [ 8, 10, 11],\n",
              "       [12, 14, 15],\n",
              "       [16, 18, 19],\n",
              "       [20, 22, 23]])"
            ]
          },
          "metadata": {},
          "execution_count": 31
        }
      ]
    },
    {
      "cell_type": "code",
      "source": [
        "# Boolean Indexing"
      ],
      "metadata": {
        "id": "zFge1DUG-KkH"
      },
      "execution_count": null,
      "outputs": []
    },
    {
      "cell_type": "code",
      "source": [
        "import random\n",
        "a = np.random.randint(1,100, 24).reshape(6,4)\n",
        "a"
      ],
      "metadata": {
        "colab": {
          "base_uri": "https://localhost:8080/"
        },
        "id": "nNHDozJMAA2Q",
        "outputId": "e54de0a3-5035-48c2-dcb2-eeb859f5a0fe"
      },
      "execution_count": null,
      "outputs": [
        {
          "output_type": "execute_result",
          "data": {
            "text/plain": [
              "array([[64, 70, 65, 96],\n",
              "       [77, 65,  3, 90],\n",
              "       [53, 98, 79, 49],\n",
              "       [25, 90, 17, 71],\n",
              "       [77, 61, 71, 73],\n",
              "       [31, 16, 14, 30]])"
            ]
          },
          "metadata": {},
          "execution_count": 35
        }
      ]
    },
    {
      "cell_type": "code",
      "source": [
        "# find all number s greater than so\n",
        "a[a >50]"
      ],
      "metadata": {
        "colab": {
          "base_uri": "https://localhost:8080/"
        },
        "id": "cUkCDbLTAOAI",
        "outputId": "82278ada-c0bd-42f2-ec51-d93000ca11c7"
      },
      "execution_count": null,
      "outputs": [
        {
          "output_type": "execute_result",
          "data": {
            "text/plain": [
              "array([64, 70, 65, 96, 77, 65, 90, 53, 98, 79, 90, 71, 77, 61, 71, 73])"
            ]
          },
          "metadata": {},
          "execution_count": 37
        }
      ]
    },
    {
      "cell_type": "code",
      "source": [
        "# find out even number\n",
        "a[a % 2 == 0]"
      ],
      "metadata": {
        "colab": {
          "base_uri": "https://localhost:8080/"
        },
        "id": "Gq_oO0fGBSuT",
        "outputId": "57f51155-e9bf-4392-a0d6-df70cdd95883"
      },
      "execution_count": null,
      "outputs": [
        {
          "output_type": "execute_result",
          "data": {
            "text/plain": [
              "array([64, 70, 96, 90, 98, 90, 16, 14, 30])"
            ]
          },
          "metadata": {},
          "execution_count": 40
        }
      ]
    },
    {
      "cell_type": "code",
      "source": [
        "# find all number greater 50 and even as well\n",
        "a[(a > 50) & (a %2 == 0)]"
      ],
      "metadata": {
        "colab": {
          "base_uri": "https://localhost:8080/"
        },
        "id": "SQ0TpDvZCCUA",
        "outputId": "83546420-4a7d-483f-9b15-03f3ea386df3"
      },
      "execution_count": null,
      "outputs": [
        {
          "output_type": "execute_result",
          "data": {
            "text/plain": [
              "array([64, 70, 96, 90, 98, 90])"
            ]
          },
          "metadata": {},
          "execution_count": 45
        }
      ]
    },
    {
      "cell_type": "code",
      "source": [
        "# find all number not divible by 7\n",
        "a[~(a % 7 == 0)]"
      ],
      "metadata": {
        "colab": {
          "base_uri": "https://localhost:8080/"
        },
        "id": "A1JDfyQlCbDz",
        "outputId": "b7b7f84c-8dc1-486a-e5ff-da5db3779706"
      },
      "execution_count": null,
      "outputs": [
        {
          "output_type": "execute_result",
          "data": {
            "text/plain": [
              "array([64, 65, 96, 65,  3, 90, 53, 79, 25, 90, 17, 71, 61, 71, 73, 31, 16,\n",
              "       30])"
            ]
          },
          "metadata": {},
          "execution_count": 48
        }
      ]
    },
    {
      "cell_type": "markdown",
      "source": [
        "### Broadcasting\n",
        "\n",
        "The term broadcasting describes how NumPy treats arrays with different shapes during arithmetic operations.\n",
        "\n",
        "The smaller array is “broadcast” across the larger array so that they have compatible shapes."
      ],
      "metadata": {
        "id": "5TfZavioDGsb"
      }
    },
    {
      "cell_type": "code",
      "source": [
        "# same shape\n",
        "a = np.arange(6).reshape(2,3)\n",
        "b = np.arange(6,12).reshape(2,3)\n",
        "\n",
        "print(a)\n",
        "print(b)\n",
        "\n",
        "print(a+b)"
      ],
      "metadata": {
        "colab": {
          "base_uri": "https://localhost:8080/"
        },
        "id": "NlLlIdbKJ_zS",
        "outputId": "32665fd2-6512-4657-8d09-eafd147bb9b7"
      },
      "execution_count": null,
      "outputs": [
        {
          "output_type": "stream",
          "name": "stdout",
          "text": [
            "[[0 1 2]\n",
            " [3 4 5]]\n",
            "[[ 6  7  8]\n",
            " [ 9 10 11]]\n",
            "[[ 6  8 10]\n",
            " [12 14 16]]\n"
          ]
        }
      ]
    },
    {
      "cell_type": "code",
      "source": [
        "# diff shape\n",
        "a = np.arange(6).reshape(2,3)\n",
        "b = np.arange(3).reshape(1,3)\n",
        "\n",
        "print(a)\n",
        "print(b)\n",
        "\n",
        "print(a+b)"
      ],
      "metadata": {
        "colab": {
          "base_uri": "https://localhost:8080/"
        },
        "id": "oOWnLcrTKD7y",
        "outputId": "14b74365-65e2-41ad-ef85-b98f3a8b7cf4"
      },
      "execution_count": null,
      "outputs": [
        {
          "output_type": "stream",
          "name": "stdout",
          "text": [
            "[[0 1 2]\n",
            " [3 4 5]]\n",
            "[[0 1 2]]\n",
            "[[0 2 4]\n",
            " [3 5 7]]\n"
          ]
        }
      ]
    },
    {
      "cell_type": "markdown",
      "source": [
        "#### Broadcasting Rules\n",
        "\n",
        "**1. Make the two arrays have the same number of dimensions.**<br>\n",
        "- If the numbers of dimensions of the two arrays are different, add new dimensions with size 1 to the head of the array with the smaller dimension.<br>"
      ],
      "metadata": {
        "id": "sgaeosZSDc0H"
      }
    },
    {
      "cell_type": "markdown",
      "source": [
        "**2. Make each dimension of the two arrays the same size.**<br>\n",
        "- If the sizes of each dimension of the two arrays do not match, dimensions with size 1 are stretched to the size of the other array.\n",
        "- If there is a dimension whose size is not 1 in either of the two arrays, it cannot be broadcasted, and an error is raised."
      ],
      "metadata": {
        "id": "rtX6S9qfIDHz"
      }
    },
    {
      "cell_type": "markdown",
      "source": [
        "<img src = \"https://jakevdp.github.io/PythonDataScienceHandbook/figures/02.05-broadcasting.png\">"
      ],
      "metadata": {
        "id": "4AfThKefIGjj"
      }
    },
    {
      "cell_type": "markdown",
      "source": [
        "plzz see upload file  where i store a image of something which is helpful in this topic"
      ],
      "metadata": {
        "id": "xjEK-eIkL--s"
      }
    },
    {
      "cell_type": "markdown",
      "source": [
        "(1, 3) --> (1,3) --> (4,3)"
      ],
      "metadata": {
        "id": "7JG7CAGLNHyF"
      }
    },
    {
      "cell_type": "code",
      "source": [
        "# more example\n",
        "a = np.arange(12).reshape(4,3)\n",
        "b = np.arange(3)\n",
        "\n",
        "print(a)\n",
        "print(b)"
      ],
      "metadata": {
        "colab": {
          "base_uri": "https://localhost:8080/"
        },
        "id": "r3QtNQ-sIJfU",
        "outputId": "cec35b82-23b2-45c2-b008-0f87f3928412"
      },
      "execution_count": null,
      "outputs": [
        {
          "output_type": "stream",
          "name": "stdout",
          "text": [
            "[[ 0  1  2]\n",
            " [ 3  4  5]\n",
            " [ 6  7  8]\n",
            " [ 9 10 11]]\n",
            "[0 1 2]\n"
          ]
        }
      ]
    },
    {
      "cell_type": "code",
      "source": [
        "print(a + b)"
      ],
      "metadata": {
        "colab": {
          "base_uri": "https://localhost:8080/"
        },
        "id": "yLNndioxLlcs",
        "outputId": "833388b5-db50-4bfe-e44f-75bcde3bc983"
      },
      "execution_count": null,
      "outputs": [
        {
          "output_type": "stream",
          "name": "stdout",
          "text": [
            "[[ 0  2  4]\n",
            " [ 3  5  7]\n",
            " [ 6  8 10]\n",
            " [ 9 11 13]]\n"
          ]
        }
      ]
    },
    {
      "cell_type": "markdown",
      "source": [
        "(1, 3) --> (1,3) --> (3,3)\n",
        "but this not equal to (3,4) this gives error"
      ],
      "metadata": {
        "id": "2SCOXBNNMkZs"
      }
    },
    {
      "cell_type": "code",
      "source": [
        "a = np.arange(12).reshape(3,4)\n",
        "b = np.arange(3)\n",
        "\n",
        "print(a)\n",
        "print(b)"
      ],
      "metadata": {
        "colab": {
          "base_uri": "https://localhost:8080/"
        },
        "id": "zCwxxhtgMQbq",
        "outputId": "a74bc1f7-6a75-4620-af46-c1e34d63a43e"
      },
      "execution_count": null,
      "outputs": [
        {
          "output_type": "stream",
          "name": "stdout",
          "text": [
            "[[ 0  1  2  3]\n",
            " [ 4  5  6  7]\n",
            " [ 8  9 10 11]]\n",
            "[0 1 2]\n"
          ]
        }
      ]
    },
    {
      "cell_type": "code",
      "source": [
        "print(a + b)"
      ],
      "metadata": {
        "colab": {
          "base_uri": "https://localhost:8080/",
          "height": 165
        },
        "id": "ztUVZclUMdNU",
        "outputId": "347f48c2-8505-4e75-e84e-24cf39b2cac4"
      },
      "execution_count": null,
      "outputs": [
        {
          "output_type": "error",
          "ename": "ValueError",
          "evalue": "ignored",
          "traceback": [
            "\u001b[0;31m---------------------------------------------------------------------------\u001b[0m",
            "\u001b[0;31mValueError\u001b[0m                                Traceback (most recent call last)",
            "\u001b[0;32m<ipython-input-54-0ae8b1612688>\u001b[0m in \u001b[0;36m<cell line: 1>\u001b[0;34m()\u001b[0m\n\u001b[0;32m----> 1\u001b[0;31m \u001b[0mprint\u001b[0m\u001b[0;34m(\u001b[0m\u001b[0ma\u001b[0m \u001b[0;34m+\u001b[0m \u001b[0mb\u001b[0m\u001b[0;34m)\u001b[0m\u001b[0;34m\u001b[0m\u001b[0;34m\u001b[0m\u001b[0m\n\u001b[0m",
            "\u001b[0;31mValueError\u001b[0m: operands could not be broadcast together with shapes (3,4) (3,) "
          ]
        }
      ]
    },
    {
      "cell_type": "markdown",
      "source": [
        "![1.PNG](data:image/png;base64,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)"
      ],
      "metadata": {
        "id": "DeFjy_sVNlvl"
      }
    },
    {
      "cell_type": "code",
      "source": [
        "a = np.arange(3).reshape(1,3)\n",
        "b = np.arange(3).reshape(3,1)\n",
        "\n",
        "print(a)\n",
        "print(b)\n",
        "\n",
        "print(a + b)"
      ],
      "metadata": {
        "colab": {
          "base_uri": "https://localhost:8080/"
        },
        "id": "KxEc6BL8Mf9d",
        "outputId": "85205717-8920-4093-a8a0-8c26ea443afb"
      },
      "execution_count": null,
      "outputs": [
        {
          "output_type": "stream",
          "name": "stdout",
          "text": [
            "[[0 1 2]]\n",
            "[[0]\n",
            " [1]\n",
            " [2]]\n",
            "[[0 1 2]\n",
            " [1 2 3]\n",
            " [2 3 4]]\n"
          ]
        }
      ]
    },
    {
      "cell_type": "markdown",
      "source": [
        "![image.png](data:image/png;base64,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)"
      ],
      "metadata": {
        "id": "aR0plDt-N9CQ"
      }
    },
    {
      "cell_type": "code",
      "source": [
        "a = np.arange(3).reshape(1,3)\n",
        "b = np.arange(4).reshape(4,1)\n",
        "\n",
        "print(a)\n",
        "print(b)\n",
        "\n",
        "print(a + b)"
      ],
      "metadata": {
        "colab": {
          "base_uri": "https://localhost:8080/"
        },
        "id": "zNrKgtcVOnw0",
        "outputId": "18121ca3-220d-466e-aa24-047c9e969e54"
      },
      "execution_count": null,
      "outputs": [
        {
          "output_type": "stream",
          "name": "stdout",
          "text": [
            "[[0 1 2]]\n",
            "[[0]\n",
            " [1]\n",
            " [2]\n",
            " [3]]\n",
            "[[0 1 2]\n",
            " [1 2 3]\n",
            " [2 3 4]\n",
            " [3 4 5]]\n"
          ]
        }
      ]
    },
    {
      "cell_type": "markdown",
      "source": [
        "![image.png](data:image/png;base64,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)"
      ],
      "metadata": {
        "id": "qneBZF4XO8eS"
      }
    },
    {
      "cell_type": "code",
      "source": [
        "a = np.array([1])\n",
        "# shape -> (1,1)\n",
        "b = np.arange(4).reshape(2,2)\n",
        "# shape -> (2,2)\n",
        "\n",
        "print(a)\n",
        "print(b)\n",
        "\n",
        "print(a + b)"
      ],
      "metadata": {
        "colab": {
          "base_uri": "https://localhost:8080/"
        },
        "id": "ryWH3I4ROrRK",
        "outputId": "674ccfb0-a501-49bc-f8f2-6ed082e44579"
      },
      "execution_count": null,
      "outputs": [
        {
          "output_type": "stream",
          "name": "stdout",
          "text": [
            "[1]\n",
            "[[0 1]\n",
            " [2 3]]\n",
            "[[1 2]\n",
            " [3 4]]\n"
          ]
        }
      ]
    },
    {
      "cell_type": "markdown",
      "source": [
        "\n",
        "\n",
        "![2.PNG](data:image/png;base64,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)\n",
        "\n"
      ],
      "metadata": {
        "id": "fVaF8nJGPSF3"
      }
    },
    {
      "cell_type": "code",
      "source": [
        "a = np.arange(12).reshape(3,4)\n",
        "b = np.arange(12).reshape(4,3)\n",
        "\n",
        "print(a)\n",
        "print(b)\n",
        "\n",
        "print(a+b)"
      ],
      "metadata": {
        "colab": {
          "base_uri": "https://localhost:8080/",
          "height": 321
        },
        "id": "hhGGivd-PCDZ",
        "outputId": "479838a9-6efe-44f8-f17d-ed33d4c816a7"
      },
      "execution_count": null,
      "outputs": [
        {
          "output_type": "stream",
          "name": "stdout",
          "text": [
            "[[ 0  1  2  3]\n",
            " [ 4  5  6  7]\n",
            " [ 8  9 10 11]]\n",
            "[[ 0  1  2]\n",
            " [ 3  4  5]\n",
            " [ 6  7  8]\n",
            " [ 9 10 11]]\n"
          ]
        },
        {
          "output_type": "error",
          "ename": "ValueError",
          "evalue": "ignored",
          "traceback": [
            "\u001b[0;31m---------------------------------------------------------------------------\u001b[0m",
            "\u001b[0;31mValueError\u001b[0m                                Traceback (most recent call last)",
            "\u001b[0;32m<ipython-input-59-c590a65467e5>\u001b[0m in \u001b[0;36m<cell line: 7>\u001b[0;34m()\u001b[0m\n\u001b[1;32m      5\u001b[0m \u001b[0mprint\u001b[0m\u001b[0;34m(\u001b[0m\u001b[0mb\u001b[0m\u001b[0;34m)\u001b[0m\u001b[0;34m\u001b[0m\u001b[0;34m\u001b[0m\u001b[0m\n\u001b[1;32m      6\u001b[0m \u001b[0;34m\u001b[0m\u001b[0m\n\u001b[0;32m----> 7\u001b[0;31m \u001b[0mprint\u001b[0m\u001b[0;34m(\u001b[0m\u001b[0ma\u001b[0m\u001b[0;34m+\u001b[0m\u001b[0mb\u001b[0m\u001b[0;34m)\u001b[0m\u001b[0;34m\u001b[0m\u001b[0;34m\u001b[0m\u001b[0m\n\u001b[0m",
            "\u001b[0;31mValueError\u001b[0m: operands could not be broadcast together with shapes (3,4) (4,3) "
          ]
        }
      ]
    },
    {
      "cell_type": "code",
      "source": [
        "a = np.arange(16).reshape(4,4)\n",
        "b = np.arange(4).reshape(2,2)\n",
        "\n",
        "print(a)\n",
        "print(b)\n",
        "\n",
        "print(a+b)"
      ],
      "metadata": {
        "colab": {
          "base_uri": "https://localhost:8080/",
          "height": 304
        },
        "id": "lbGBg2ehPMtS",
        "outputId": "2c36f837-ca5e-4e9d-a538-0d149fcb5421"
      },
      "execution_count": null,
      "outputs": [
        {
          "output_type": "stream",
          "name": "stdout",
          "text": [
            "[[ 0  1  2  3]\n",
            " [ 4  5  6  7]\n",
            " [ 8  9 10 11]\n",
            " [12 13 14 15]]\n",
            "[[0 1]\n",
            " [2 3]]\n"
          ]
        },
        {
          "output_type": "error",
          "ename": "ValueError",
          "evalue": "ignored",
          "traceback": [
            "\u001b[0;31m---------------------------------------------------------------------------\u001b[0m",
            "\u001b[0;31mValueError\u001b[0m                                Traceback (most recent call last)",
            "\u001b[0;32m<ipython-input-60-57df50a0058a>\u001b[0m in \u001b[0;36m<cell line: 7>\u001b[0;34m()\u001b[0m\n\u001b[1;32m      5\u001b[0m \u001b[0mprint\u001b[0m\u001b[0;34m(\u001b[0m\u001b[0mb\u001b[0m\u001b[0;34m)\u001b[0m\u001b[0;34m\u001b[0m\u001b[0;34m\u001b[0m\u001b[0m\n\u001b[1;32m      6\u001b[0m \u001b[0;34m\u001b[0m\u001b[0m\n\u001b[0;32m----> 7\u001b[0;31m \u001b[0mprint\u001b[0m\u001b[0;34m(\u001b[0m\u001b[0ma\u001b[0m\u001b[0;34m+\u001b[0m\u001b[0mb\u001b[0m\u001b[0;34m)\u001b[0m\u001b[0;34m\u001b[0m\u001b[0;34m\u001b[0m\u001b[0m\n\u001b[0m",
            "\u001b[0;31mValueError\u001b[0m: operands could not be broadcast together with shapes (4,4) (2,2) "
          ]
        }
      ]
    },
    {
      "cell_type": "markdown",
      "source": [
        "### Working with mathematical formulas"
      ],
      "metadata": {
        "id": "8TeqjYiHQUba"
      }
    },
    {
      "cell_type": "code",
      "source": [
        "a = np.arange(10)\n",
        "np.sum(a)"
      ],
      "metadata": {
        "colab": {
          "base_uri": "https://localhost:8080/"
        },
        "id": "2UoGwi62RdDS",
        "outputId": "2d53ce8a-64c2-459c-a5b6-c0020f54e0a2"
      },
      "execution_count": null,
      "outputs": [
        {
          "output_type": "execute_result",
          "data": {
            "text/plain": [
              "45"
            ]
          },
          "metadata": {},
          "execution_count": 61
        }
      ]
    },
    {
      "cell_type": "code",
      "source": [
        "np.sin(a)"
      ],
      "metadata": {
        "colab": {
          "base_uri": "https://localhost:8080/"
        },
        "id": "gNeUFRQvRmWg",
        "outputId": "b6e0dd44-4c26-4a9e-ee4d-e6d63e34a21d"
      },
      "execution_count": null,
      "outputs": [
        {
          "output_type": "execute_result",
          "data": {
            "text/plain": [
              "array([ 0.        ,  0.84147098,  0.90929743,  0.14112001, -0.7568025 ,\n",
              "       -0.95892427, -0.2794155 ,  0.6569866 ,  0.98935825,  0.41211849])"
            ]
          },
          "metadata": {},
          "execution_count": 62
        }
      ]
    },
    {
      "cell_type": "code",
      "source": [
        "# signoid\n",
        "def signoid(array):\n",
        "  return 1/(1+ (np.exp(array)) ** (-1)) # 1/(1+ (np.exp(-(array)))\n",
        "\n",
        "a = np.arange(100)\n",
        "\n",
        "signoid(a)"
      ],
      "metadata": {
        "colab": {
          "base_uri": "https://localhost:8080/"
        },
        "id": "b1jwNNZdRrcf",
        "outputId": "82e3fd6e-aaca-43b7-9295-077a9e5c7b70"
      },
      "execution_count": null,
      "outputs": [
        {
          "output_type": "execute_result",
          "data": {
            "text/plain": [
              "array([0.5       , 0.73105858, 0.88079708, 0.95257413, 0.98201379,\n",
              "       0.99330715, 0.99752738, 0.99908895, 0.99966465, 0.99987661,\n",
              "       0.9999546 , 0.9999833 , 0.99999386, 0.99999774, 0.99999917,\n",
              "       0.99999969, 0.99999989, 0.99999996, 0.99999998, 0.99999999,\n",
              "       1.        , 1.        , 1.        , 1.        , 1.        ,\n",
              "       1.        , 1.        , 1.        , 1.        , 1.        ,\n",
              "       1.        , 1.        , 1.        , 1.        , 1.        ,\n",
              "       1.        , 1.        , 1.        , 1.        , 1.        ,\n",
              "       1.        , 1.        , 1.        , 1.        , 1.        ,\n",
              "       1.        , 1.        , 1.        , 1.        , 1.        ,\n",
              "       1.        , 1.        , 1.        , 1.        , 1.        ,\n",
              "       1.        , 1.        , 1.        , 1.        , 1.        ,\n",
              "       1.        , 1.        , 1.        , 1.        , 1.        ,\n",
              "       1.        , 1.        , 1.        , 1.        , 1.        ,\n",
              "       1.        , 1.        , 1.        , 1.        , 1.        ,\n",
              "       1.        , 1.        , 1.        , 1.        , 1.        ,\n",
              "       1.        , 1.        , 1.        , 1.        , 1.        ,\n",
              "       1.        , 1.        , 1.        , 1.        , 1.        ,\n",
              "       1.        , 1.        , 1.        , 1.        , 1.        ,\n",
              "       1.        , 1.        , 1.        , 1.        , 1.        ])"
            ]
          },
          "metadata": {},
          "execution_count": 66
        }
      ]
    },
    {
      "cell_type": "code",
      "source": [
        "# mean squared error\n",
        "actual = np.random.randint(1,50, 25)\n",
        "predicted = np.random.randint(1, 20 ,25)"
      ],
      "metadata": {
        "id": "hNUsSS0FV00j"
      },
      "execution_count": null,
      "outputs": []
    },
    {
      "cell_type": "code",
      "source": [
        "print(actual)\n",
        "print(predicted)"
      ],
      "metadata": {
        "colab": {
          "base_uri": "https://localhost:8080/"
        },
        "id": "JuySfrWLe0lJ",
        "outputId": "356771e7-244e-4558-9a8c-5e9473127916"
      },
      "execution_count": null,
      "outputs": [
        {
          "output_type": "stream",
          "name": "stdout",
          "text": [
            "[44  3 28 45 28  4 31  8 19 43 45 45 46  6 45 38 49 39 26 12 11 25 15  3\n",
            " 34]\n",
            "[12  5 16  9  9 18 14 15 18 19 18 13  5  2  2 19 17  9  9 19  2 15  2  5\n",
            " 19]\n"
          ]
        }
      ]
    },
    {
      "cell_type": "code",
      "source": [
        "def mse(actual, predicted):\n",
        "  return np.mean((actual - predicted) ** 2)\n",
        "\n",
        "mse(actual, predicted)"
      ],
      "metadata": {
        "colab": {
          "base_uri": "https://localhost:8080/"
        },
        "id": "tE90FEChe5Vg",
        "outputId": "a1682b00-3e03-4d19-f44b-bbe59ab2e808"
      },
      "execution_count": null,
      "outputs": [
        {
          "output_type": "execute_result",
          "data": {
            "text/plain": [
              "497.64"
            ]
          },
          "metadata": {},
          "execution_count": 70
        }
      ]
    },
    {
      "cell_type": "code",
      "source": [
        "# binary cross entropy\n",
        "def bce()"
      ],
      "metadata": {
        "id": "HnNNyyE8fSpl"
      },
      "execution_count": null,
      "outputs": []
    },
    {
      "cell_type": "markdown",
      "source": [
        "### Working with missing values"
      ],
      "metadata": {
        "id": "boDN91Gjh5LF"
      }
    },
    {
      "cell_type": "code",
      "source": [
        "# working with missing values -> np.nan\n",
        "a = np.array([1,2,3,np.nan,6])\n",
        "a"
      ],
      "metadata": {
        "colab": {
          "base_uri": "https://localhost:8080/"
        },
        "id": "RY-zX9ulh996",
        "outputId": "19f26880-b0bd-47b6-aa61-55b9e9f8ea89"
      },
      "execution_count": null,
      "outputs": [
        {
          "output_type": "execute_result",
          "data": {
            "text/plain": [
              "array([ 1.,  2.,  3., nan,  6.])"
            ]
          },
          "metadata": {},
          "execution_count": 71
        }
      ]
    },
    {
      "cell_type": "code",
      "source": [
        "np.isnan(a)"
      ],
      "metadata": {
        "colab": {
          "base_uri": "https://localhost:8080/"
        },
        "id": "SkCJXuEQiwvO",
        "outputId": "6a129282-88cb-48e2-89ba-b24a24c2e4fe"
      },
      "execution_count": null,
      "outputs": [
        {
          "output_type": "execute_result",
          "data": {
            "text/plain": [
              "array([False, False, False,  True, False])"
            ]
          },
          "metadata": {},
          "execution_count": 72
        }
      ]
    },
    {
      "cell_type": "code",
      "source": [
        "a[np.isnan(a)]"
      ],
      "metadata": {
        "colab": {
          "base_uri": "https://localhost:8080/"
        },
        "id": "WKit15sOjEbL",
        "outputId": "b2097c39-2320-4923-d2bf-85b331b4700b"
      },
      "execution_count": null,
      "outputs": [
        {
          "output_type": "execute_result",
          "data": {
            "text/plain": [
              "array([nan])"
            ]
          },
          "metadata": {},
          "execution_count": 73
        }
      ]
    },
    {
      "cell_type": "code",
      "source": [
        "a[~(np.isnan(a))]"
      ],
      "metadata": {
        "colab": {
          "base_uri": "https://localhost:8080/"
        },
        "id": "qazZeeXDjH6Y",
        "outputId": "d2913164-719f-4789-cdb6-81b0559a404f"
      },
      "execution_count": null,
      "outputs": [
        {
          "output_type": "execute_result",
          "data": {
            "text/plain": [
              "array([1., 2., 3., 6.])"
            ]
          },
          "metadata": {},
          "execution_count": 74
        }
      ]
    },
    {
      "cell_type": "markdown",
      "source": [
        "### Plotting Graphs"
      ],
      "metadata": {
        "id": "LMKGNhjIiiFw"
      }
    },
    {
      "cell_type": "code",
      "source": [
        "# plotting a 2d plot\n",
        "# x == y\n",
        "\n",
        "x = np.linspace(-10, 10, 100)\n",
        "y = x"
      ],
      "metadata": {
        "id": "Yjw5Ao5Bipd4"
      },
      "execution_count": null,
      "outputs": []
    },
    {
      "cell_type": "code",
      "source": [
        "import matplotlib.pyplot  as plt\n",
        "plt.plot(x,y)"
      ],
      "metadata": {
        "colab": {
          "base_uri": "https://localhost:8080/",
          "height": 447
        },
        "id": "4qRKWCROj1Rm",
        "outputId": "8e7da044-d203-43af-b80c-4d3deec804c7"
      },
      "execution_count": null,
      "outputs": [
        {
          "output_type": "execute_result",
          "data": {
            "text/plain": [
              "[<matplotlib.lines.Line2D at 0x7f7729db8040>]"
            ]
          },
          "metadata": {},
          "execution_count": 78
        },
        {
          "output_type": "display_data",
          "data": {
            "text/plain": [
              "<Figure size 640x480 with 1 Axes>"
            ],
            "image/png": "[encoded data removed]"
          },
          "metadata": {}
        }
      ]
    },
    {
      "cell_type": "code",
      "source": [
        "# y = x^2\n",
        "x = np.linspace(-20, 20, 50)\n",
        "y = x ** 2\n",
        "plt.plot(x,y)"
      ],
      "metadata": {
        "colab": {
          "base_uri": "https://localhost:8080/",
          "height": 447
        },
        "id": "lbstsmTskEvt",
        "outputId": "6524da77-4040-4e8d-fd38-489747267b2e"
      },
      "execution_count": null,
      "outputs": [
        {
          "output_type": "execute_result",
          "data": {
            "text/plain": [
              "[<matplotlib.lines.Line2D at 0x7f7729bf7e50>]"
            ]
          },
          "metadata": {},
          "execution_count": 79
        },
        {
          "output_type": "display_data",
          "data": {
            "text/plain": [
              "<Figure size 640x480 with 1 Axes>"
            ],
            "image/png": "[encoded data removed]"
          },
          "metadata": {}
        }
      ]
    },
    {
      "cell_type": "code",
      "source": [
        "x = np.linspace(-10, 10, 50)\n",
        "y = np.sin(x)\n",
        "\n",
        "plt.plot(x,y)"
      ],
      "metadata": {
        "colab": {
          "base_uri": "https://localhost:8080/",
          "height": 447
        },
        "id": "uPCRylH_lAv-",
        "outputId": "df82f820-334f-455b-b81b-4f636d065340"
      },
      "execution_count": null,
      "outputs": [
        {
          "output_type": "execute_result",
          "data": {
            "text/plain": [
              "[<matplotlib.lines.Line2D at 0x7f7709fe2950>]"
            ]
          },
          "metadata": {},
          "execution_count": 82
        },
        {
          "output_type": "display_data",
          "data": {
            "text/plain": [
              "<Figure size 640x480 with 1 Axes>"
            ],
            "image/png": "[encoded data removed]"
          },
          "metadata": {}
        }
      ]
    },
    {
      "cell_type": "code",
      "source": [
        "# y = xlog(x)\n",
        "x = np.linspace(-20, 20, 50)\n",
        "y = x* np.log(x)\n",
        "\n",
        "plt.plot(x,y)"
      ],
      "metadata": {
        "colab": {
          "base_uri": "https://localhost:8080/",
          "height": 502
        },
        "id": "xGHiH9PwlMKg",
        "outputId": "62585526-31c8-4710-f6d5-a910ecb69cfd"
      },
      "execution_count": null,
      "outputs": [
        {
          "output_type": "stream",
          "name": "stderr",
          "text": [
            "<ipython-input-83-259f10e5acb6>:2: RuntimeWarning: invalid value encountered in log\n",
            "  y = x* np.log(x)\n"
          ]
        },
        {
          "output_type": "execute_result",
          "data": {
            "text/plain": [
              "[<matplotlib.lines.Line2D at 0x7f76e6c99270>]"
            ]
          },
          "metadata": {},
          "execution_count": 83
        },
        {
          "output_type": "display_data",
          "data": {
            "text/plain": [
              "<Figure size 640x480 with 1 Axes>"
            ],
            "image/png": "[encoded data removed]"
          },
          "metadata": {}
        }
      ]
    },
    {
      "cell_type": "code",
      "source": [
        "# signoid graph\n",
        "x = np.linspace(-10, 10, 50)\n",
        "y = 1/(1 + np.exp(-(x)))\n",
        "\n",
        "plt.plot(x,y)"
      ],
      "metadata": {
        "colab": {
          "base_uri": "https://localhost:8080/",
          "height": 447
        },
        "id": "pSSMuo7hlx2x",
        "outputId": "d8d1df8e-1442-4b28-fc1b-f31c290df8f1"
      },
      "execution_count": null,
      "outputs": [
        {
          "output_type": "execute_result",
          "data": {
            "text/plain": [
              "[<matplotlib.lines.Line2D at 0x7f7729c9d870>]"
            ]
          },
          "metadata": {},
          "execution_count": 86
        },
        {
          "output_type": "display_data",
          "data": {
            "text/plain": [
              "<Figure size 640x480 with 1 Axes>"
            ],
            "image/png": "[encoded data removed]"
          },
          "metadata": {}
        }
      ]
    },
    {
      "cell_type": "code",
      "source": [
        "# plotting a scatter plot\n"
      ],
      "metadata": {
        "id": "cZTuHU5Wll9q"
      },
      "execution_count": null,
      "outputs": []
    },
    {
      "cell_type": "markdown",
      "source": [
        "### Meshgrids"
      ],
      "metadata": {
        "id": "JPfy6c16mrBx"
      }
    },
    {
      "cell_type": "code",
      "source": [],
      "metadata": {
        "id": "35eIQ8bBmu_4"
      },
      "execution_count": null,
      "outputs": []
    }
  ]
}